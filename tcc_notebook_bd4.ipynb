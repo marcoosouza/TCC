{
 "cells": [
  {
   "cell_type": "markdown",
   "id": "588d8ea0-c61f-4de5-b07e-43971159fef8",
   "metadata": {},
   "source": [
    "# UTILS"
   ]
  },
  {
   "cell_type": "code",
   "execution_count": null,
   "id": "62f16543-45f6-418c-957f-b8b4e5d39fe9",
   "metadata": {},
   "outputs": [],
   "source": [
    "import pandas as pd\n",
    "import re\n",
    "import string\n",
    "import pickle\n",
    "from sklearn.model_selection import train_test_split, GridSearchCV, ShuffleSplit\n",
    "from sklearn.ensemble import AdaBoostClassifier\n",
    "from sklearn.feature_extraction.text import TfidfVectorizer\n",
    "from sklearn.tree import DecisionTreeClassifier\n",
    "from sklearn.naive_bayes import MultinomialNB\n",
    "from sklearn.linear_model import LogisticRegression\n",
    "from sklearn.model_selection import cross_validate\n",
    "from sklearn.metrics import make_scorer, accuracy_score, recall_score, f1_score, precision_score\n",
    "from sklearn.ensemble import BaggingClassifier\n",
    "from sklearn.ensemble import StackingClassifier\n",
    "from sklearn.ensemble import RandomForestClassifier\n",
    "from sklearn.naive_bayes import GaussianNB\n",
    "from sklearn.metrics import accuracy_score, precision_score, recall_score, f1_score, confusion_matrix, classification_report\n",
    "from imblearn.over_sampling import SMOTE\n",
    "from sklearn.svm import SVC\n",
    "from xgboost import XGBClassifier\n",
    "from sklearn.svm import LinearSVC"
   ]
  },
  {
   "cell_type": "code",
   "execution_count": null,
   "id": "42b05ee2-3038-437f-9993-e312e5320daa",
   "metadata": {},
   "outputs": [],
   "source": [
    "def wordopt(text):\n",
    "    text = text.lower()\n",
    "    text = re.sub('\\[.*?\\]', '', text)\n",
    "    text = re.sub(\"\\\\W\", \" \", text)\n",
    "    text = re.sub('https?://\\S+|www\\.\\S+', '', text)\n",
    "    text = re.sub('<.*?>+', '', text)\n",
    "    text = re.sub('[%s]' % re.escape(string.punctuation), '', text)\n",
    "    text = re.sub('\\n', '', text)\n",
    "    text = re.sub('\\w*\\d\\w*', '', text)\n",
    "    return text"
   ]
  },
  {
   "cell_type": "markdown",
   "id": "5af054ef-42ea-426a-949b-8dcffc611e22",
   "metadata": {},
   "source": [
    "## BD1"
   ]
  },
  {
   "cell_type": "markdown",
   "id": "695331c0-2845-4564-bbcf-f35d6a329438",
   "metadata": {},
   "source": [
    "### Pre-processing"
   ]
  },
  {
   "cell_type": "code",
   "execution_count": null,
   "id": "1df18187-065f-4d61-b023-5f583c487642",
   "metadata": {},
   "outputs": [],
   "source": [
    "df_fake = pd.read_csv(\"./ISOT/Fake.csv\")\n",
    "df_true = pd.read_csv(\"./ISOT/True.csv\")\n",
    "\n",
    "df_fake[\"class\"] = 0\n",
    "df_true[\"class\"] = 1\n",
    "\n",
    "df_merge = pd.concat([df_fake, df_true], axis=0)\n",
    "df_bd1 = df_merge.drop([\"title\", \"subject\", \"date\"], axis=1)\n",
    "df_bd1 = df_bd1.sample(frac=1)\n",
    "df_bd1.reset_index(inplace=True)\n",
    "df_bd1.drop([\"index\"], axis=1, inplace=True)\n"
   ]
  },
  {
   "cell_type": "code",
   "execution_count": null,
   "id": "3a0e9a56-2e3b-4f53-9e8e-1be73a8def8f",
   "metadata": {},
   "outputs": [],
   "source": [
    "df_bd1"
   ]
  },
  {
   "cell_type": "markdown",
   "id": "617d4394-236d-403e-a90e-b787e2ed8da6",
   "metadata": {},
   "source": [
    "## BD2"
   ]
  },
  {
   "cell_type": "markdown",
   "id": "3a3f6d73-3530-4e77-900d-d398e7edc04b",
   "metadata": {},
   "source": [
    "### Pre-processing"
   ]
  },
  {
   "cell_type": "code",
   "execution_count": null,
   "id": "e6d0d3ca-0900-4465-a468-bf9ae376c62b",
   "metadata": {},
   "outputs": [],
   "source": [
    "df_bd2 = pd.read_csv(\"./BD2/data.csv\")"
   ]
  },
  {
   "cell_type": "code",
   "execution_count": null,
   "id": "851a89d3-7b35-4ae2-abe2-060fa4010326",
   "metadata": {},
   "outputs": [],
   "source": [
    "df_bd2 = df_bd2[['Body', 'Label']]"
   ]
  },
  {
   "cell_type": "code",
   "execution_count": null,
   "id": "7e84ad21-0917-4fa5-81da-42374cc066ca",
   "metadata": {},
   "outputs": [],
   "source": [
    "df_bd2 = df_bd2[df_bd2['Body'].apply(lambda x: isinstance(x, str))].reset_index(drop=True)"
   ]
  },
  {
   "cell_type": "code",
   "execution_count": null,
   "id": "d6b94e27-660c-49ad-88c4-d910193619e0",
   "metadata": {},
   "outputs": [],
   "source": [
    "df_bd2.columns = ['text', 'class']"
   ]
  },
  {
   "cell_type": "code",
   "execution_count": null,
   "id": "1bb2777e-8e82-4be5-b133-2fda68c08a9f",
   "metadata": {},
   "outputs": [],
   "source": [
    "df_bd2"
   ]
  },
  {
   "cell_type": "markdown",
   "id": "8ef3dfb4-5026-4dd3-97f1-b6ee5e8e739f",
   "metadata": {},
   "source": [
    "## BD3"
   ]
  },
  {
   "cell_type": "markdown",
   "id": "8e2f15a6-7d75-455c-b396-fdd02fd8531f",
   "metadata": {},
   "source": [
    "### Pre-processing"
   ]
  },
  {
   "cell_type": "code",
   "execution_count": null,
   "id": "a3d6d5c4-6bc6-446b-88d3-c25db2b9d5f4",
   "metadata": {},
   "outputs": [],
   "source": [
    "df_bd3 = pd.read_csv(\"./BD3/fake-news/train.csv\")"
   ]
  },
  {
   "cell_type": "code",
   "execution_count": null,
   "id": "1b68344d-a962-46e0-8222-52b240547378",
   "metadata": {},
   "outputs": [],
   "source": [
    "df_bd3 = df_bd3[['text', 'label']]"
   ]
  },
  {
   "cell_type": "code",
   "execution_count": null,
   "id": "5da57ac9-9be7-4cb0-987e-2f22d22fef4c",
   "metadata": {},
   "outputs": [],
   "source": [
    "df_bd3 = df_bd3[df_bd3['text'].apply(lambda x: isinstance(x, str))].reset_index(drop=True)"
   ]
  },
  {
   "cell_type": "code",
   "execution_count": null,
   "id": "cad80f5f-58df-48ec-a528-f443c0890f71",
   "metadata": {},
   "outputs": [],
   "source": [
    "df_bd3.columns = ['text', 'class']"
   ]
  },
  {
   "cell_type": "code",
   "execution_count": null,
   "id": "6fdee5f8-b373-4f0f-b5a8-38a4c2671e12",
   "metadata": {},
   "outputs": [],
   "source": [
    "df_bd3"
   ]
  },
  {
   "cell_type": "markdown",
   "id": "f04bcff3-0154-4d5e-899b-bc738ea626c4",
   "metadata": {},
   "source": [
    "## Preprocessing all data"
   ]
  },
  {
   "cell_type": "code",
   "execution_count": 21,
   "id": "ac31be31-271d-40eb-8f5f-de37ccaa7333",
   "metadata": {},
   "outputs": [],
   "source": [
    "df = pd.concat([df_bd1, df_bd2, df_bd3], ignore_index=True)"
   ]
  },
  {
   "cell_type": "code",
   "execution_count": 22,
   "id": "e677c998-2c9d-4fcf-9971-e4af579195f7",
   "metadata": {},
   "outputs": [
    {
     "data": {
      "text/html": [
       "<div>\n",
       "<style scoped>\n",
       "    .dataframe tbody tr th:only-of-type {\n",
       "        vertical-align: middle;\n",
       "    }\n",
       "\n",
       "    .dataframe tbody tr th {\n",
       "        vertical-align: top;\n",
       "    }\n",
       "\n",
       "    .dataframe thead th {\n",
       "        text-align: right;\n",
       "    }\n",
       "</style>\n",
       "<table border=\"1\" class=\"dataframe\">\n",
       "  <thead>\n",
       "    <tr style=\"text-align: right;\">\n",
       "      <th></th>\n",
       "      <th>text</th>\n",
       "      <th>class</th>\n",
       "    </tr>\n",
       "  </thead>\n",
       "  <tbody>\n",
       "    <tr>\n",
       "      <th>0</th>\n",
       "      <td>21st Century Wire says NSA and police state ch...</td>\n",
       "      <td>0</td>\n",
       "    </tr>\n",
       "    <tr>\n",
       "      <th>1</th>\n",
       "      <td>Is there ever a time the Left isn t portrayed ...</td>\n",
       "      <td>0</td>\n",
       "    </tr>\n",
       "    <tr>\n",
       "      <th>2</th>\n",
       "      <td>BRIDGEWATER, N.J. (Reuters) - U.S. President D...</td>\n",
       "      <td>1</td>\n",
       "    </tr>\n",
       "    <tr>\n",
       "      <th>3</th>\n",
       "      <td>WASHINGTON (Reuters) - American intelligence a...</td>\n",
       "      <td>1</td>\n",
       "    </tr>\n",
       "    <tr>\n",
       "      <th>4</th>\n",
       "      <td>Are we the mutation nation now? Is this person...</td>\n",
       "      <td>0</td>\n",
       "    </tr>\n",
       "    <tr>\n",
       "      <th>...</th>\n",
       "      <td>...</td>\n",
       "      <td>...</td>\n",
       "    </tr>\n",
       "    <tr>\n",
       "      <th>69642</th>\n",
       "      <td>Rapper T. I. unloaded on black celebrities who...</td>\n",
       "      <td>0</td>\n",
       "    </tr>\n",
       "    <tr>\n",
       "      <th>69643</th>\n",
       "      <td>When the Green Bay Packers lost to the Washing...</td>\n",
       "      <td>0</td>\n",
       "    </tr>\n",
       "    <tr>\n",
       "      <th>69644</th>\n",
       "      <td>The Macy’s of today grew from the union of sev...</td>\n",
       "      <td>0</td>\n",
       "    </tr>\n",
       "    <tr>\n",
       "      <th>69645</th>\n",
       "      <td>NATO, Russia To Hold Parallel Exercises In Bal...</td>\n",
       "      <td>1</td>\n",
       "    </tr>\n",
       "    <tr>\n",
       "      <th>69646</th>\n",
       "      <td>David Swanson is an author, activist, journa...</td>\n",
       "      <td>1</td>\n",
       "    </tr>\n",
       "  </tbody>\n",
       "</table>\n",
       "<p>69647 rows × 2 columns</p>\n",
       "</div>"
      ],
      "text/plain": [
       "                                                    text  class\n",
       "0      21st Century Wire says NSA and police state ch...      0\n",
       "1      Is there ever a time the Left isn t portrayed ...      0\n",
       "2      BRIDGEWATER, N.J. (Reuters) - U.S. President D...      1\n",
       "3      WASHINGTON (Reuters) - American intelligence a...      1\n",
       "4      Are we the mutation nation now? Is this person...      0\n",
       "...                                                  ...    ...\n",
       "69642  Rapper T. I. unloaded on black celebrities who...      0\n",
       "69643  When the Green Bay Packers lost to the Washing...      0\n",
       "69644  The Macy’s of today grew from the union of sev...      0\n",
       "69645  NATO, Russia To Hold Parallel Exercises In Bal...      1\n",
       "69646    David Swanson is an author, activist, journa...      1\n",
       "\n",
       "[69647 rows x 2 columns]"
      ]
     },
     "execution_count": 22,
     "metadata": {},
     "output_type": "execute_result"
    }
   ],
   "source": [
    "df"
   ]
  },
  {
   "cell_type": "code",
   "execution_count": 23,
   "id": "3e22c97a-7522-475a-a2c3-39ce39fdc3d9",
   "metadata": {},
   "outputs": [
    {
     "name": "stdout",
     "output_type": "stream",
     "text": [
      "                                                    text  class\n",
      "0       century wire says nsa and police state cheerl...      0\n",
      "1      is there ever a time the left isn t portrayed ...      0\n",
      "2      bridgewater  n j   reuters    u s  president d...      1\n",
      "3      washington  reuters    american intelligence a...      1\n",
      "4      are we the mutation nation now  is this person...      0\n",
      "...                                                  ...    ...\n",
      "69642  rapper t  i  unloaded on black celebrities who...      0\n",
      "69643  when the green bay packers lost to the washing...      0\n",
      "69644  the macy s of today grew from the union of sev...      0\n",
      "69645  nato  russia to hold parallel exercises in bal...      1\n",
      "69646    david swanson is an author  activist  journa...      1\n",
      "\n",
      "[69647 rows x 2 columns]\n"
     ]
    }
   ],
   "source": [
    "df[\"text\"] = df[\"text\"].apply(wordopt)\n",
    "\n",
    "print(df)"
   ]
  },
  {
   "cell_type": "code",
   "execution_count": 24,
   "id": "f0ff7778-fe55-490f-9943-b52ae8f69e3e",
   "metadata": {},
   "outputs": [
    {
     "data": {
      "text/plain": [
       "(69647, 222607)"
      ]
     },
     "execution_count": 24,
     "metadata": {},
     "output_type": "execute_result"
    }
   ],
   "source": [
    "X = df[\"text\"]\n",
    "y = df[\"class\"]\n",
    "\n",
    "vectorizer = TfidfVectorizer()\n",
    "X_vect = vectorizer.fit_transform(X)\n",
    "\n",
    "X_vect.shape"
   ]
  },
  {
   "cell_type": "code",
   "execution_count": 25,
   "id": "bbe5fa4d-19c4-4fa3-9684-b9553c86fc1f",
   "metadata": {},
   "outputs": [
    {
     "name": "stdout",
     "output_type": "stream",
     "text": [
      "(55717, 222607)\n",
      "(13930, 222607)\n"
     ]
    }
   ],
   "source": [
    "X_train, X_test, y_train, y_test = train_test_split(X_vect, y, test_size=0.2, random_state=42)\n",
    "\n",
    "print(X_train.shape)\n",
    "print(X_test.shape)  "
   ]
  },
  {
   "cell_type": "markdown",
   "id": "6e2df97c-a285-49fb-9904-2a13212be10c",
   "metadata": {},
   "source": [
    "## Base Learners"
   ]
  },
  {
   "cell_type": "markdown",
   "id": "df98b5d4-72fa-4d11-9901-976fdd0e5fc7",
   "metadata": {},
   "source": [
    "### Decision Tree"
   ]
  },
  {
   "cell_type": "code",
   "execution_count": 26,
   "id": "cd11bf50-1500-4732-ac5c-69280bce9070",
   "metadata": {},
   "outputs": [],
   "source": [
    "param_grid_dt = {\n",
    "    'max_depth': [None, 10],\n",
    "    'min_samples_split': [2, 10],\n",
    "    'min_samples_leaf': [1, 2]\n",
    "}"
   ]
  },
  {
   "cell_type": "code",
   "execution_count": 27,
   "id": "7fac0566-b210-492f-938b-42ccb893168c",
   "metadata": {},
   "outputs": [],
   "source": [
    "dt = DecisionTreeClassifier()"
   ]
  },
  {
   "cell_type": "code",
   "execution_count": 28,
   "id": "0202e19a-ed3d-4c59-8b8e-71b7c304394b",
   "metadata": {},
   "outputs": [],
   "source": [
    "grid_search_dt = GridSearchCV(estimator=dt, param_grid=param_grid_dt, cv=5, n_jobs=-1, verbose=2)"
   ]
  },
  {
   "cell_type": "code",
   "execution_count": 29,
   "id": "4e138eb9-5a9e-400d-8b65-2af68b3cd0f2",
   "metadata": {},
   "outputs": [
    {
     "name": "stdout",
     "output_type": "stream",
     "text": [
      "Fitting 5 folds for each of 8 candidates, totalling 40 fits\n"
     ]
    },
    {
     "data": {
      "text/html": [
       "<style>#sk-container-id-1 {\n",
       "  /* Definition of color scheme common for light and dark mode */\n",
       "  --sklearn-color-text: black;\n",
       "  --sklearn-color-line: gray;\n",
       "  /* Definition of color scheme for unfitted estimators */\n",
       "  --sklearn-color-unfitted-level-0: #fff5e6;\n",
       "  --sklearn-color-unfitted-level-1: #f6e4d2;\n",
       "  --sklearn-color-unfitted-level-2: #ffe0b3;\n",
       "  --sklearn-color-unfitted-level-3: chocolate;\n",
       "  /* Definition of color scheme for fitted estimators */\n",
       "  --sklearn-color-fitted-level-0: #f0f8ff;\n",
       "  --sklearn-color-fitted-level-1: #d4ebff;\n",
       "  --sklearn-color-fitted-level-2: #b3dbfd;\n",
       "  --sklearn-color-fitted-level-3: cornflowerblue;\n",
       "\n",
       "  /* Specific color for light theme */\n",
       "  --sklearn-color-text-on-default-background: var(--sg-text-color, var(--theme-code-foreground, var(--jp-content-font-color1, black)));\n",
       "  --sklearn-color-background: var(--sg-background-color, var(--theme-background, var(--jp-layout-color0, white)));\n",
       "  --sklearn-color-border-box: var(--sg-text-color, var(--theme-code-foreground, var(--jp-content-font-color1, black)));\n",
       "  --sklearn-color-icon: #696969;\n",
       "\n",
       "  @media (prefers-color-scheme: dark) {\n",
       "    /* Redefinition of color scheme for dark theme */\n",
       "    --sklearn-color-text-on-default-background: var(--sg-text-color, var(--theme-code-foreground, var(--jp-content-font-color1, white)));\n",
       "    --sklearn-color-background: var(--sg-background-color, var(--theme-background, var(--jp-layout-color0, #111)));\n",
       "    --sklearn-color-border-box: var(--sg-text-color, var(--theme-code-foreground, var(--jp-content-font-color1, white)));\n",
       "    --sklearn-color-icon: #878787;\n",
       "  }\n",
       "}\n",
       "\n",
       "#sk-container-id-1 {\n",
       "  color: var(--sklearn-color-text);\n",
       "}\n",
       "\n",
       "#sk-container-id-1 pre {\n",
       "  padding: 0;\n",
       "}\n",
       "\n",
       "#sk-container-id-1 input.sk-hidden--visually {\n",
       "  border: 0;\n",
       "  clip: rect(1px 1px 1px 1px);\n",
       "  clip: rect(1px, 1px, 1px, 1px);\n",
       "  height: 1px;\n",
       "  margin: -1px;\n",
       "  overflow: hidden;\n",
       "  padding: 0;\n",
       "  position: absolute;\n",
       "  width: 1px;\n",
       "}\n",
       "\n",
       "#sk-container-id-1 div.sk-dashed-wrapped {\n",
       "  border: 1px dashed var(--sklearn-color-line);\n",
       "  margin: 0 0.4em 0.5em 0.4em;\n",
       "  box-sizing: border-box;\n",
       "  padding-bottom: 0.4em;\n",
       "  background-color: var(--sklearn-color-background);\n",
       "}\n",
       "\n",
       "#sk-container-id-1 div.sk-container {\n",
       "  /* jupyter's `normalize.less` sets `[hidden] { display: none; }`\n",
       "     but bootstrap.min.css set `[hidden] { display: none !important; }`\n",
       "     so we also need the `!important` here to be able to override the\n",
       "     default hidden behavior on the sphinx rendered scikit-learn.org.\n",
       "     See: https://github.com/scikit-learn/scikit-learn/issues/21755 */\n",
       "  display: inline-block !important;\n",
       "  position: relative;\n",
       "}\n",
       "\n",
       "#sk-container-id-1 div.sk-text-repr-fallback {\n",
       "  display: none;\n",
       "}\n",
       "\n",
       "div.sk-parallel-item,\n",
       "div.sk-serial,\n",
       "div.sk-item {\n",
       "  /* draw centered vertical line to link estimators */\n",
       "  background-image: linear-gradient(var(--sklearn-color-text-on-default-background), var(--sklearn-color-text-on-default-background));\n",
       "  background-size: 2px 100%;\n",
       "  background-repeat: no-repeat;\n",
       "  background-position: center center;\n",
       "}\n",
       "\n",
       "/* Parallel-specific style estimator block */\n",
       "\n",
       "#sk-container-id-1 div.sk-parallel-item::after {\n",
       "  content: \"\";\n",
       "  width: 100%;\n",
       "  border-bottom: 2px solid var(--sklearn-color-text-on-default-background);\n",
       "  flex-grow: 1;\n",
       "}\n",
       "\n",
       "#sk-container-id-1 div.sk-parallel {\n",
       "  display: flex;\n",
       "  align-items: stretch;\n",
       "  justify-content: center;\n",
       "  background-color: var(--sklearn-color-background);\n",
       "  position: relative;\n",
       "}\n",
       "\n",
       "#sk-container-id-1 div.sk-parallel-item {\n",
       "  display: flex;\n",
       "  flex-direction: column;\n",
       "}\n",
       "\n",
       "#sk-container-id-1 div.sk-parallel-item:first-child::after {\n",
       "  align-self: flex-end;\n",
       "  width: 50%;\n",
       "}\n",
       "\n",
       "#sk-container-id-1 div.sk-parallel-item:last-child::after {\n",
       "  align-self: flex-start;\n",
       "  width: 50%;\n",
       "}\n",
       "\n",
       "#sk-container-id-1 div.sk-parallel-item:only-child::after {\n",
       "  width: 0;\n",
       "}\n",
       "\n",
       "/* Serial-specific style estimator block */\n",
       "\n",
       "#sk-container-id-1 div.sk-serial {\n",
       "  display: flex;\n",
       "  flex-direction: column;\n",
       "  align-items: center;\n",
       "  background-color: var(--sklearn-color-background);\n",
       "  padding-right: 1em;\n",
       "  padding-left: 1em;\n",
       "}\n",
       "\n",
       "\n",
       "/* Toggleable style: style used for estimator/Pipeline/ColumnTransformer box that is\n",
       "clickable and can be expanded/collapsed.\n",
       "- Pipeline and ColumnTransformer use this feature and define the default style\n",
       "- Estimators will overwrite some part of the style using the `sk-estimator` class\n",
       "*/\n",
       "\n",
       "/* Pipeline and ColumnTransformer style (default) */\n",
       "\n",
       "#sk-container-id-1 div.sk-toggleable {\n",
       "  /* Default theme specific background. It is overwritten whether we have a\n",
       "  specific estimator or a Pipeline/ColumnTransformer */\n",
       "  background-color: var(--sklearn-color-background);\n",
       "}\n",
       "\n",
       "/* Toggleable label */\n",
       "#sk-container-id-1 label.sk-toggleable__label {\n",
       "  cursor: pointer;\n",
       "  display: block;\n",
       "  width: 100%;\n",
       "  margin-bottom: 0;\n",
       "  padding: 0.5em;\n",
       "  box-sizing: border-box;\n",
       "  text-align: center;\n",
       "}\n",
       "\n",
       "#sk-container-id-1 label.sk-toggleable__label-arrow:before {\n",
       "  /* Arrow on the left of the label */\n",
       "  content: \"▸\";\n",
       "  float: left;\n",
       "  margin-right: 0.25em;\n",
       "  color: var(--sklearn-color-icon);\n",
       "}\n",
       "\n",
       "#sk-container-id-1 label.sk-toggleable__label-arrow:hover:before {\n",
       "  color: var(--sklearn-color-text);\n",
       "}\n",
       "\n",
       "/* Toggleable content - dropdown */\n",
       "\n",
       "#sk-container-id-1 div.sk-toggleable__content {\n",
       "  max-height: 0;\n",
       "  max-width: 0;\n",
       "  overflow: hidden;\n",
       "  text-align: left;\n",
       "  /* unfitted */\n",
       "  background-color: var(--sklearn-color-unfitted-level-0);\n",
       "}\n",
       "\n",
       "#sk-container-id-1 div.sk-toggleable__content.fitted {\n",
       "  /* fitted */\n",
       "  background-color: var(--sklearn-color-fitted-level-0);\n",
       "}\n",
       "\n",
       "#sk-container-id-1 div.sk-toggleable__content pre {\n",
       "  margin: 0.2em;\n",
       "  border-radius: 0.25em;\n",
       "  color: var(--sklearn-color-text);\n",
       "  /* unfitted */\n",
       "  background-color: var(--sklearn-color-unfitted-level-0);\n",
       "}\n",
       "\n",
       "#sk-container-id-1 div.sk-toggleable__content.fitted pre {\n",
       "  /* unfitted */\n",
       "  background-color: var(--sklearn-color-fitted-level-0);\n",
       "}\n",
       "\n",
       "#sk-container-id-1 input.sk-toggleable__control:checked~div.sk-toggleable__content {\n",
       "  /* Expand drop-down */\n",
       "  max-height: 200px;\n",
       "  max-width: 100%;\n",
       "  overflow: auto;\n",
       "}\n",
       "\n",
       "#sk-container-id-1 input.sk-toggleable__control:checked~label.sk-toggleable__label-arrow:before {\n",
       "  content: \"▾\";\n",
       "}\n",
       "\n",
       "/* Pipeline/ColumnTransformer-specific style */\n",
       "\n",
       "#sk-container-id-1 div.sk-label input.sk-toggleable__control:checked~label.sk-toggleable__label {\n",
       "  color: var(--sklearn-color-text);\n",
       "  background-color: var(--sklearn-color-unfitted-level-2);\n",
       "}\n",
       "\n",
       "#sk-container-id-1 div.sk-label.fitted input.sk-toggleable__control:checked~label.sk-toggleable__label {\n",
       "  background-color: var(--sklearn-color-fitted-level-2);\n",
       "}\n",
       "\n",
       "/* Estimator-specific style */\n",
       "\n",
       "/* Colorize estimator box */\n",
       "#sk-container-id-1 div.sk-estimator input.sk-toggleable__control:checked~label.sk-toggleable__label {\n",
       "  /* unfitted */\n",
       "  background-color: var(--sklearn-color-unfitted-level-2);\n",
       "}\n",
       "\n",
       "#sk-container-id-1 div.sk-estimator.fitted input.sk-toggleable__control:checked~label.sk-toggleable__label {\n",
       "  /* fitted */\n",
       "  background-color: var(--sklearn-color-fitted-level-2);\n",
       "}\n",
       "\n",
       "#sk-container-id-1 div.sk-label label.sk-toggleable__label,\n",
       "#sk-container-id-1 div.sk-label label {\n",
       "  /* The background is the default theme color */\n",
       "  color: var(--sklearn-color-text-on-default-background);\n",
       "}\n",
       "\n",
       "/* On hover, darken the color of the background */\n",
       "#sk-container-id-1 div.sk-label:hover label.sk-toggleable__label {\n",
       "  color: var(--sklearn-color-text);\n",
       "  background-color: var(--sklearn-color-unfitted-level-2);\n",
       "}\n",
       "\n",
       "/* Label box, darken color on hover, fitted */\n",
       "#sk-container-id-1 div.sk-label.fitted:hover label.sk-toggleable__label.fitted {\n",
       "  color: var(--sklearn-color-text);\n",
       "  background-color: var(--sklearn-color-fitted-level-2);\n",
       "}\n",
       "\n",
       "/* Estimator label */\n",
       "\n",
       "#sk-container-id-1 div.sk-label label {\n",
       "  font-family: monospace;\n",
       "  font-weight: bold;\n",
       "  display: inline-block;\n",
       "  line-height: 1.2em;\n",
       "}\n",
       "\n",
       "#sk-container-id-1 div.sk-label-container {\n",
       "  text-align: center;\n",
       "}\n",
       "\n",
       "/* Estimator-specific */\n",
       "#sk-container-id-1 div.sk-estimator {\n",
       "  font-family: monospace;\n",
       "  border: 1px dotted var(--sklearn-color-border-box);\n",
       "  border-radius: 0.25em;\n",
       "  box-sizing: border-box;\n",
       "  margin-bottom: 0.5em;\n",
       "  /* unfitted */\n",
       "  background-color: var(--sklearn-color-unfitted-level-0);\n",
       "}\n",
       "\n",
       "#sk-container-id-1 div.sk-estimator.fitted {\n",
       "  /* fitted */\n",
       "  background-color: var(--sklearn-color-fitted-level-0);\n",
       "}\n",
       "\n",
       "/* on hover */\n",
       "#sk-container-id-1 div.sk-estimator:hover {\n",
       "  /* unfitted */\n",
       "  background-color: var(--sklearn-color-unfitted-level-2);\n",
       "}\n",
       "\n",
       "#sk-container-id-1 div.sk-estimator.fitted:hover {\n",
       "  /* fitted */\n",
       "  background-color: var(--sklearn-color-fitted-level-2);\n",
       "}\n",
       "\n",
       "/* Specification for estimator info (e.g. \"i\" and \"?\") */\n",
       "\n",
       "/* Common style for \"i\" and \"?\" */\n",
       "\n",
       ".sk-estimator-doc-link,\n",
       "a:link.sk-estimator-doc-link,\n",
       "a:visited.sk-estimator-doc-link {\n",
       "  float: right;\n",
       "  font-size: smaller;\n",
       "  line-height: 1em;\n",
       "  font-family: monospace;\n",
       "  background-color: var(--sklearn-color-background);\n",
       "  border-radius: 1em;\n",
       "  height: 1em;\n",
       "  width: 1em;\n",
       "  text-decoration: none !important;\n",
       "  margin-left: 1ex;\n",
       "  /* unfitted */\n",
       "  border: var(--sklearn-color-unfitted-level-1) 1pt solid;\n",
       "  color: var(--sklearn-color-unfitted-level-1);\n",
       "}\n",
       "\n",
       ".sk-estimator-doc-link.fitted,\n",
       "a:link.sk-estimator-doc-link.fitted,\n",
       "a:visited.sk-estimator-doc-link.fitted {\n",
       "  /* fitted */\n",
       "  border: var(--sklearn-color-fitted-level-1) 1pt solid;\n",
       "  color: var(--sklearn-color-fitted-level-1);\n",
       "}\n",
       "\n",
       "/* On hover */\n",
       "div.sk-estimator:hover .sk-estimator-doc-link:hover,\n",
       ".sk-estimator-doc-link:hover,\n",
       "div.sk-label-container:hover .sk-estimator-doc-link:hover,\n",
       ".sk-estimator-doc-link:hover {\n",
       "  /* unfitted */\n",
       "  background-color: var(--sklearn-color-unfitted-level-3);\n",
       "  color: var(--sklearn-color-background);\n",
       "  text-decoration: none;\n",
       "}\n",
       "\n",
       "div.sk-estimator.fitted:hover .sk-estimator-doc-link.fitted:hover,\n",
       ".sk-estimator-doc-link.fitted:hover,\n",
       "div.sk-label-container:hover .sk-estimator-doc-link.fitted:hover,\n",
       ".sk-estimator-doc-link.fitted:hover {\n",
       "  /* fitted */\n",
       "  background-color: var(--sklearn-color-fitted-level-3);\n",
       "  color: var(--sklearn-color-background);\n",
       "  text-decoration: none;\n",
       "}\n",
       "\n",
       "/* Span, style for the box shown on hovering the info icon */\n",
       ".sk-estimator-doc-link span {\n",
       "  display: none;\n",
       "  z-index: 9999;\n",
       "  position: relative;\n",
       "  font-weight: normal;\n",
       "  right: .2ex;\n",
       "  padding: .5ex;\n",
       "  margin: .5ex;\n",
       "  width: min-content;\n",
       "  min-width: 20ex;\n",
       "  max-width: 50ex;\n",
       "  color: var(--sklearn-color-text);\n",
       "  box-shadow: 2pt 2pt 4pt #999;\n",
       "  /* unfitted */\n",
       "  background: var(--sklearn-color-unfitted-level-0);\n",
       "  border: .5pt solid var(--sklearn-color-unfitted-level-3);\n",
       "}\n",
       "\n",
       ".sk-estimator-doc-link.fitted span {\n",
       "  /* fitted */\n",
       "  background: var(--sklearn-color-fitted-level-0);\n",
       "  border: var(--sklearn-color-fitted-level-3);\n",
       "}\n",
       "\n",
       ".sk-estimator-doc-link:hover span {\n",
       "  display: block;\n",
       "}\n",
       "\n",
       "/* \"?\"-specific style due to the `<a>` HTML tag */\n",
       "\n",
       "#sk-container-id-1 a.estimator_doc_link {\n",
       "  float: right;\n",
       "  font-size: 1rem;\n",
       "  line-height: 1em;\n",
       "  font-family: monospace;\n",
       "  background-color: var(--sklearn-color-background);\n",
       "  border-radius: 1rem;\n",
       "  height: 1rem;\n",
       "  width: 1rem;\n",
       "  text-decoration: none;\n",
       "  /* unfitted */\n",
       "  color: var(--sklearn-color-unfitted-level-1);\n",
       "  border: var(--sklearn-color-unfitted-level-1) 1pt solid;\n",
       "}\n",
       "\n",
       "#sk-container-id-1 a.estimator_doc_link.fitted {\n",
       "  /* fitted */\n",
       "  border: var(--sklearn-color-fitted-level-1) 1pt solid;\n",
       "  color: var(--sklearn-color-fitted-level-1);\n",
       "}\n",
       "\n",
       "/* On hover */\n",
       "#sk-container-id-1 a.estimator_doc_link:hover {\n",
       "  /* unfitted */\n",
       "  background-color: var(--sklearn-color-unfitted-level-3);\n",
       "  color: var(--sklearn-color-background);\n",
       "  text-decoration: none;\n",
       "}\n",
       "\n",
       "#sk-container-id-1 a.estimator_doc_link.fitted:hover {\n",
       "  /* fitted */\n",
       "  background-color: var(--sklearn-color-fitted-level-3);\n",
       "}\n",
       "</style><div id=\"sk-container-id-1\" class=\"sk-top-container\"><div class=\"sk-text-repr-fallback\"><pre>GridSearchCV(cv=5, estimator=DecisionTreeClassifier(), n_jobs=-1,\n",
       "             param_grid={&#x27;max_depth&#x27;: [None, 10], &#x27;min_samples_leaf&#x27;: [1, 2],\n",
       "                         &#x27;min_samples_split&#x27;: [2, 10]},\n",
       "             verbose=2)</pre><b>In a Jupyter environment, please rerun this cell to show the HTML representation or trust the notebook. <br />On GitHub, the HTML representation is unable to render, please try loading this page with nbviewer.org.</b></div><div class=\"sk-container\" hidden><div class=\"sk-item sk-dashed-wrapped\"><div class=\"sk-label-container\"><div class=\"sk-label fitted sk-toggleable\"><input class=\"sk-toggleable__control sk-hidden--visually\" id=\"sk-estimator-id-1\" type=\"checkbox\" ><label for=\"sk-estimator-id-1\" class=\"sk-toggleable__label fitted sk-toggleable__label-arrow fitted\">&nbsp;&nbsp;GridSearchCV<a class=\"sk-estimator-doc-link fitted\" rel=\"noreferrer\" target=\"_blank\" href=\"https://scikit-learn.org/1.5/modules/generated/sklearn.model_selection.GridSearchCV.html\">?<span>Documentation for GridSearchCV</span></a><span class=\"sk-estimator-doc-link fitted\">i<span>Fitted</span></span></label><div class=\"sk-toggleable__content fitted\"><pre>GridSearchCV(cv=5, estimator=DecisionTreeClassifier(), n_jobs=-1,\n",
       "             param_grid={&#x27;max_depth&#x27;: [None, 10], &#x27;min_samples_leaf&#x27;: [1, 2],\n",
       "                         &#x27;min_samples_split&#x27;: [2, 10]},\n",
       "             verbose=2)</pre></div> </div></div><div class=\"sk-parallel\"><div class=\"sk-parallel-item\"><div class=\"sk-item\"><div class=\"sk-label-container\"><div class=\"sk-label fitted sk-toggleable\"><input class=\"sk-toggleable__control sk-hidden--visually\" id=\"sk-estimator-id-2\" type=\"checkbox\" ><label for=\"sk-estimator-id-2\" class=\"sk-toggleable__label fitted sk-toggleable__label-arrow fitted\">best_estimator_: DecisionTreeClassifier</label><div class=\"sk-toggleable__content fitted\"><pre>DecisionTreeClassifier()</pre></div> </div></div><div class=\"sk-serial\"><div class=\"sk-item\"><div class=\"sk-estimator fitted sk-toggleable\"><input class=\"sk-toggleable__control sk-hidden--visually\" id=\"sk-estimator-id-3\" type=\"checkbox\" ><label for=\"sk-estimator-id-3\" class=\"sk-toggleable__label fitted sk-toggleable__label-arrow fitted\">&nbsp;DecisionTreeClassifier<a class=\"sk-estimator-doc-link fitted\" rel=\"noreferrer\" target=\"_blank\" href=\"https://scikit-learn.org/1.5/modules/generated/sklearn.tree.DecisionTreeClassifier.html\">?<span>Documentation for DecisionTreeClassifier</span></a></label><div class=\"sk-toggleable__content fitted\"><pre>DecisionTreeClassifier()</pre></div> </div></div></div></div></div></div></div></div></div>"
      ],
      "text/plain": [
       "GridSearchCV(cv=5, estimator=DecisionTreeClassifier(), n_jobs=-1,\n",
       "             param_grid={'max_depth': [None, 10], 'min_samples_leaf': [1, 2],\n",
       "                         'min_samples_split': [2, 10]},\n",
       "             verbose=2)"
      ]
     },
     "execution_count": 29,
     "metadata": {},
     "output_type": "execute_result"
    }
   ],
   "source": [
    "grid_search_dt.fit(X_train, y_train)"
   ]
  },
  {
   "cell_type": "code",
   "execution_count": 30,
   "id": "aeed2064-d31d-4b1a-a4d0-8aa5a1a913a5",
   "metadata": {},
   "outputs": [],
   "source": [
    "with open('grid_search_dt.pkl', 'wb') as file:\n",
    "    pickle.dump(grid_search_dt, file)"
   ]
  },
  {
   "cell_type": "code",
   "execution_count": 31,
   "id": "54645fde-3c32-448a-8b9c-d1b2470a9ffd",
   "metadata": {},
   "outputs": [
    {
     "name": "stdout",
     "output_type": "stream",
     "text": [
      "Melhor score de validação: 0.9004791717977587\n",
      "[CV] END max_depth=None, min_samples_leaf=1, min_samples_split=2; total time= 2.6min\n",
      "[CV] END max_depth=None, min_samples_leaf=1, min_samples_split=10; total time= 2.2min\n",
      "[CV] END max_depth=None, min_samples_leaf=2, min_samples_split=2; total time= 2.1min\n",
      "[CV] END max_depth=None, min_samples_leaf=2, min_samples_split=10; total time= 2.1min\n",
      "[CV] END max_depth=None, min_samples_leaf=1, min_samples_split=2; total time= 2.7min\n",
      "[CV] END max_depth=None, min_samples_leaf=1, min_samples_split=10; total time= 2.4min\n",
      "[CV] END max_depth=None, min_samples_leaf=2, min_samples_split=10; total time= 2.1min\n",
      "[CV] END max_depth=None, min_samples_leaf=2, min_samples_split=10; total time= 2.1min\n",
      "[CV] END max_depth=None, min_samples_leaf=1, min_samples_split=2; total time= 2.5min\n",
      "[CV] END max_depth=None, min_samples_leaf=1, min_samples_split=10; total time= 2.4min\n",
      "[CV] END max_depth=None, min_samples_leaf=2, min_samples_split=2; total time= 2.3min\n",
      "[CV] END max_depth=10, min_samples_leaf=1, min_samples_split=2; total time=  27.3s\n",
      "[CV] END max_depth=10, min_samples_leaf=1, min_samples_split=2; total time=  28.8s\n",
      "[CV] END max_depth=10, min_samples_leaf=1, min_samples_split=10; total time=  26.7s\n",
      "[CV] END max_depth=10, min_samples_leaf=2, min_samples_split=2; total time=  27.0s\n",
      "[CV] END max_depth=10, min_samples_leaf=2, min_samples_split=10; total time=  24.8s\n",
      "[CV] END max_depth=None, min_samples_leaf=1, min_samples_split=2; total time= 2.7min\n",
      "[CV] END max_depth=None, min_samples_leaf=2, min_samples_split=2; total time= 2.3min\n",
      "[CV] END max_depth=None, min_samples_leaf=2, min_samples_split=10; total time= 2.2min\n",
      "[CV] END max_depth=10, min_samples_leaf=1, min_samples_split=2; total time=  27.2s\n",
      "[CV] END max_depth=10, min_samples_leaf=1, min_samples_split=10; total time=  27.6s\n",
      "[CV] END max_depth=10, min_samples_leaf=2, min_samples_split=2; total time=  26.8s\n",
      "[CV] END max_depth=10, min_samples_leaf=2, min_samples_split=2; total time=  27.1s\n",
      "[CV] END max_depth=10, min_samples_leaf=2, min_samples_split=10; total time=  24.1s\n",
      "[CV] END max_depth=None, min_samples_leaf=1, min_samples_split=2; total time= 2.6min\n",
      "[CV] END max_depth=None, min_samples_leaf=1, min_samples_split=10; total time= 2.3min\n",
      "[CV] END max_depth=None, min_samples_leaf=2, min_samples_split=10; total time= 2.3min\n",
      "[CV] END max_depth=10, min_samples_leaf=1, min_samples_split=2; total time=  27.1s\n",
      "[CV] END max_depth=10, min_samples_leaf=1, min_samples_split=10; total time=  28.0s\n",
      "[CV] END max_depth=10, min_samples_leaf=1, min_samples_split=10; total time=  27.4s\n",
      "[CV] END max_depth=10, min_samples_leaf=2, min_samples_split=2; total time=  28.2s\n",
      "[CV] END max_depth=10, min_samples_leaf=2, min_samples_split=10; total time=  23.8s\n"
     ]
    }
   ],
   "source": [
    "print(\"Melhor score de validação:\", grid_search_dt.best_score_)"
   ]
  },
  {
   "cell_type": "markdown",
   "id": "4f8767fb-ff37-4cf7-a62a-6925102d941a",
   "metadata": {},
   "source": [
    "### Logistic Regression"
   ]
  },
  {
   "cell_type": "code",
   "execution_count": null,
   "id": "c2209719-9603-4378-aac1-593fe2042532",
   "metadata": {},
   "outputs": [],
   "source": [
    "param_grid_lr = {\n",
    "    'C': [0.1, 1, 10],\n",
    "    'penalty': ['l2'],\n",
    "    'solver': ['lbfgs'],\n",
    "    'max_iter': [100, 200]\n",
    "}"
   ]
  },
  {
   "cell_type": "code",
   "execution_count": null,
   "id": "1c64cf09-0cf8-4e0e-b149-b2c4cb2d99fa",
   "metadata": {},
   "outputs": [],
   "source": [
    "lr = LogisticRegression()"
   ]
  },
  {
   "cell_type": "code",
   "execution_count": null,
   "id": "2974133d-7e67-405b-9a1b-9c1755650101",
   "metadata": {},
   "outputs": [],
   "source": [
    "grid_search_lr = GridSearchCV(estimator=lr, param_grid=param_grid_lr, cv=5, n_jobs=-1, verbose=2)"
   ]
  },
  {
   "cell_type": "code",
   "execution_count": null,
   "id": "5d60b07e-d35a-4441-80a3-c6fcf6f5a109",
   "metadata": {},
   "outputs": [],
   "source": [
    "grid_search_lr.fit(X_train, y_train)"
   ]
  },
  {
   "cell_type": "code",
   "execution_count": null,
   "id": "946292d3-3a98-4736-8f5c-663aa2238879",
   "metadata": {},
   "outputs": [],
   "source": [
    "with open('grid_search_lr.pkl', 'wb') as file:\n",
    "    pickle.dump(grid_search_lr, file)"
   ]
  },
  {
   "cell_type": "code",
   "execution_count": null,
   "id": "ddf1b78d-c64f-4eb1-b6a5-a0d26e08cfc1",
   "metadata": {},
   "outputs": [],
   "source": [
    "print(\"Melhor score de validação:\", grid_search_lr.best_score_)"
   ]
  },
  {
   "cell_type": "markdown",
   "id": "b40ab0d7-428d-4fb0-989e-588de0907b6b",
   "metadata": {},
   "source": [
    "### Naive Bayes"
   ]
  },
  {
   "cell_type": "code",
   "execution_count": null,
   "id": "45a8f5d3-46f2-4d18-853a-285b68417844",
   "metadata": {},
   "outputs": [],
   "source": [
    "param_grid_nb = {\n",
    "    'alpha': [0.1, 0.5, 1.0, 1.5],\n",
    "    'fit_prior': [True, False]     \n",
    "}"
   ]
  },
  {
   "cell_type": "code",
   "execution_count": null,
   "id": "9172ec1f-86a4-41fb-b189-fd375858049b",
   "metadata": {},
   "outputs": [],
   "source": [
    "nb = MultinomialNB()"
   ]
  },
  {
   "cell_type": "code",
   "execution_count": null,
   "id": "5297a8c3-3410-4ab3-be4a-d017b1cb4d0e",
   "metadata": {},
   "outputs": [],
   "source": [
    "grid_search_nb = GridSearchCV(estimator=nb, param_grid=param_grid_nb, cv=5, n_jobs=-1, verbose=2)"
   ]
  },
  {
   "cell_type": "code",
   "execution_count": null,
   "id": "024cc8c2-0010-4bea-a2f9-ba6af0868dc8",
   "metadata": {},
   "outputs": [],
   "source": [
    "grid_search_nb.fit(X_train, y_train)"
   ]
  },
  {
   "cell_type": "code",
   "execution_count": null,
   "id": "d31e702e-1777-4d3a-905d-b5f6cfe76fdb",
   "metadata": {},
   "outputs": [],
   "source": [
    "with open('grid_search_nb.pkl', 'wb') as model_file:\n",
    "    pickle.dump(grid_search_nb, model_file)"
   ]
  },
  {
   "cell_type": "code",
   "execution_count": null,
   "id": "6c93c32a-a0f8-4a73-a601-ae971ff6e736",
   "metadata": {},
   "outputs": [],
   "source": [
    "print(\"Melhor score de validação:\", grid_search_nb.best_score_)"
   ]
  },
  {
   "cell_type": "markdown",
   "id": "16ee20ed-ea86-40f8-a98a-f79f9ef68dfc",
   "metadata": {},
   "source": [
    "### SVM"
   ]
  },
  {
   "cell_type": "code",
   "execution_count": null,
   "id": "1a23fba6-c744-4755-b8f4-edb4f4735495",
   "metadata": {},
   "outputs": [],
   "source": [
    "param_grid_linear_svm = {\n",
    "    'C': [0.1, 1, 10],\n",
    "    'class_weight': [None, 'balanced'],\n",
    "    'max_iter': [1000, 2000, 5000]  # Opcional: ajuste conforme necessário\n",
    "}"
   ]
  },
  {
   "cell_type": "code",
   "execution_count": null,
   "id": "956abffe-5598-4d15-8aa6-13558c46cd3f",
   "metadata": {},
   "outputs": [],
   "source": [
    "linear_svm = LinearSVC(random_state=42)"
   ]
  },
  {
   "cell_type": "code",
   "execution_count": null,
   "id": "498b4fc3-dab1-4a2e-b902-a0cc1f29ec32",
   "metadata": {},
   "outputs": [],
   "source": [
    "grid_search_linear_svm = GridSearchCV(estimator=linear_svm, param_grid=param_grid_linear_svm, cv=5, n_jobs=-1, verbose=2)"
   ]
  },
  {
   "cell_type": "code",
   "execution_count": null,
   "id": "4b7967a1-fd25-4257-883d-d84a467019f1",
   "metadata": {},
   "outputs": [],
   "source": [
    "grid_search_linear_svm.fit(X_train, y_train)"
   ]
  },
  {
   "cell_type": "code",
   "execution_count": null,
   "id": "64e913fa-ced3-479d-a8fb-70c3cd51e05c",
   "metadata": {},
   "outputs": [],
   "source": [
    "with open('grid_search_linear_svm.pkl', 'wb') as model_file:\n",
    "    pickle.dump(grid_search_linear_svm, model_file)"
   ]
  },
  {
   "cell_type": "code",
   "execution_count": null,
   "id": "e6ebdeb9-8bc1-4974-bde5-483af73a7f2f",
   "metadata": {},
   "outputs": [],
   "source": [
    "print(\"Melhor score de validação:\", grid_search_linear_svm.best_score_)"
   ]
  },
  {
   "cell_type": "markdown",
   "id": "4a668e9d-fd7a-449d-88d9-71b409b5d403",
   "metadata": {},
   "source": [
    "## Bagging"
   ]
  },
  {
   "cell_type": "markdown",
   "id": "99e4f11c-c9e7-4839-aec9-f1c4c9a32579",
   "metadata": {},
   "source": [
    "### Random Forest"
   ]
  },
  {
   "cell_type": "code",
   "execution_count": null,
   "id": "3601191a-677d-415f-9e4a-32ac24396326",
   "metadata": {},
   "outputs": [],
   "source": [
    "param_grid_rf = {\n",
    "    'n_estimators': [100, 200],\n",
    "    'max_depth': [None, 10],\n",
    "    'min_samples_split': [2, 10]\n",
    "}\n"
   ]
  },
  {
   "cell_type": "code",
   "execution_count": null,
   "id": "cd73ad5a-a642-41b7-a2f8-8c52d0bb8e7a",
   "metadata": {},
   "outputs": [],
   "source": [
    "rf = RandomForestClassifier(random_state=42)"
   ]
  },
  {
   "cell_type": "code",
   "execution_count": null,
   "id": "e4be22cf-ce35-49e5-8cfb-9b3c7dec4a76",
   "metadata": {},
   "outputs": [],
   "source": [
    "grid_search_rf = GridSearchCV(estimator=rf, param_grid=param_grid_rf, cv=5, n_jobs=-1, verbose=2)"
   ]
  },
  {
   "cell_type": "code",
   "execution_count": null,
   "id": "df8a23cc-5ab3-48c5-8730-5075c595cc59",
   "metadata": {
    "scrolled": true
   },
   "outputs": [],
   "source": [
    "grid_search_rf.fit(X_train, y_train)"
   ]
  },
  {
   "cell_type": "code",
   "execution_count": null,
   "id": "b61d9383-3276-4927-b9e3-e990c2c373ec",
   "metadata": {},
   "outputs": [],
   "source": [
    "with open('grid_search_rf.pkl', 'wb') as file:\n",
    "    pickle.dump(grid_search_rf, file)"
   ]
  },
  {
   "cell_type": "code",
   "execution_count": null,
   "id": "c7b76605-f0bf-4e54-9bf8-4521507b8317",
   "metadata": {},
   "outputs": [],
   "source": [
    "print(\"Melhor score de validação:\", grid_search_rf.best_score_)"
   ]
  },
  {
   "cell_type": "markdown",
   "id": "7121b2de-026a-4e67-a347-cb74f2bc3597",
   "metadata": {},
   "source": [
    "## Boosting"
   ]
  },
  {
   "cell_type": "markdown",
   "id": "23276c0d-9a94-4f27-ac71-4fdab9bf3042",
   "metadata": {},
   "source": [
    "### AdaBoost"
   ]
  },
  {
   "cell_type": "code",
   "execution_count": null,
   "id": "b40d8f70-a739-4918-bf48-82d6f88a3596",
   "metadata": {},
   "outputs": [],
   "source": [
    "param_grid_ada = {\n",
    "    'n_estimators': [50, 100, 200], \n",
    "    'learning_rate': [0.01, 0.1, 0.5, 1],\n",
    "    'algorithm': ['SAMME', 'SAMME.R'], \n",
    "}"
   ]
  },
  {
   "cell_type": "code",
   "execution_count": null,
   "id": "38d4e7f2-b847-4692-8565-f89ea077bfa3",
   "metadata": {},
   "outputs": [],
   "source": [
    "ada = AdaBoostClassifier(random_state=42)"
   ]
  },
  {
   "cell_type": "code",
   "execution_count": null,
   "id": "eae56368-a3e6-4855-b5b8-ff3f6449ed1b",
   "metadata": {},
   "outputs": [],
   "source": [
    "grid_search_ada = GridSearchCV(estimator=ada, param_grid=param_grid_ada, cv=5, n_jobs=-1, verbose=2)"
   ]
  },
  {
   "cell_type": "code",
   "execution_count": null,
   "id": "1e33b5fb-953f-403d-84cc-9cdc593713bf",
   "metadata": {},
   "outputs": [],
   "source": [
    "grid_search_ada.fit(X_train, y_train)"
   ]
  },
  {
   "cell_type": "code",
   "execution_count": null,
   "id": "57b41e77-049d-41f3-9995-c456795753ef",
   "metadata": {},
   "outputs": [],
   "source": [
    "with open('grid_search_ada.pkl', 'wb') as f:\n",
    "    pickle.dump(grid_search_ada, f)"
   ]
  },
  {
   "cell_type": "code",
   "execution_count": null,
   "id": "0feefeef-9a33-425e-bbc2-ce2291e08868",
   "metadata": {},
   "outputs": [],
   "source": [
    "print(\"Melhor score de validação:\", grid_search_ada.best_score_)"
   ]
  },
  {
   "cell_type": "markdown",
   "id": "bc3a0d04-ba3e-4994-b774-859f25c4d664",
   "metadata": {},
   "source": [
    "### XGBoost"
   ]
  },
  {
   "cell_type": "code",
   "execution_count": null,
   "id": "546831f0-64d1-4ad7-aa2b-158e73841cb7",
   "metadata": {},
   "outputs": [],
   "source": [
    "param_grid_xgb = {\n",
    "    'n_estimators': [100, 200],\n",
    "    'learning_rate': [0.1, 0.3],\n",
    "    'max_depth': [3, 5],\n",
    "    'subsample': [0.8, 1.0],\n",
    "    'gamma': [0, 0.1]\n",
    "}\n"
   ]
  },
  {
   "cell_type": "code",
   "execution_count": null,
   "id": "b79f20a7-9236-443f-b037-3351d6d8a36b",
   "metadata": {},
   "outputs": [],
   "source": [
    "xgb = XGBClassifier(random_state=42)"
   ]
  },
  {
   "cell_type": "code",
   "execution_count": null,
   "id": "c1fdcf94-6e3a-4997-83e9-a310e86d9e9b",
   "metadata": {},
   "outputs": [],
   "source": [
    "grid_search_xgb = GridSearchCV(estimator=xgb, param_grid=param_grid_xgb, cv=5, n_jobs=-1, verbose=2)"
   ]
  },
  {
   "cell_type": "code",
   "execution_count": null,
   "id": "44b7da81-d371-4d48-8004-7e5d40295425",
   "metadata": {},
   "outputs": [],
   "source": [
    "grid_search_xgb.fit(X_train, y_train)"
   ]
  },
  {
   "cell_type": "code",
   "execution_count": null,
   "id": "808d1f92-633e-40e8-82f1-565a5f94ab33",
   "metadata": {},
   "outputs": [],
   "source": [
    "with open('grid_search_xgb.pkl', 'wb') as f:\n",
    "    pickle.dump(grid_search_xgb, f)"
   ]
  },
  {
   "cell_type": "code",
   "execution_count": null,
   "id": "d1a8cc63-818b-4a05-a230-ebc2a8afc5f9",
   "metadata": {},
   "outputs": [],
   "source": [
    "print(\"Melhor score de validação:\", grid_search_xgb.best_score_)"
   ]
  },
  {
   "cell_type": "markdown",
   "id": "ad89ea17-057d-43aa-9a2d-a242b7d1cd20",
   "metadata": {},
   "source": [
    "## Stacking"
   ]
  },
  {
   "cell_type": "code",
   "execution_count": null,
   "id": "8ccaa7ac-0415-479d-ab2b-b5cc61f71b22",
   "metadata": {},
   "outputs": [],
   "source": [
    "param_grid_stacking = {\n",
    "    'final_estimator__C': [0.01, 0.1, 1.0, 10.0],  \n",
    "    'final_estimator__solver': ['liblinear', 'saga'],  \n",
    "    'passthrough': [False, True]  \n",
    "}"
   ]
  },
  {
   "cell_type": "code",
   "execution_count": null,
   "id": "a618cb72-4014-4833-a78d-833f3c7c8179",
   "metadata": {},
   "outputs": [],
   "source": [
    "with open('./CV_RESULTS_ISOT/grid_search_dt.pkl', 'rb') as f:\n",
    "    grid_search_dt = pickle.load(f)\n",
    "\n",
    "with open('./CV_RESULTS_ISOT/grid_search_nb.pkl', 'rb') as f:\n",
    "    grid_search_nb = pickle.load(f)\n",
    "\n",
    "with open('./CV_RESULTS_ISOT/grid_search_lr.pkl', 'rb') as f:\n",
    "    grid_search_lr = pickle.load(f)\n",
    "\n",
    "with open('./CV_RESULTS_ISOT/grid_search_linear_svm.pkl', 'rb') as f:\n",
    "    grid_search_linear_svm = pickle.load(f)"
   ]
  },
  {
   "cell_type": "code",
   "execution_count": null,
   "id": "001c7579-a0a9-45e0-857d-e28c8884e82e",
   "metadata": {},
   "outputs": [],
   "source": [
    "base_estimators = [\n",
    "    ('lr', grid_search_lr.best_estimator_),\n",
    "    ('nb', grid_search_nb.best_estimator_),\n",
    "    ('dt', grid_search_dt.best_estimator_),\n",
    "    ('svm', grid_search_linear_svm.best_estimator_)\n",
    "]"
   ]
  },
  {
   "cell_type": "code",
   "execution_count": null,
   "id": "623c0f15-e0be-4d9b-81d8-b70c7e096e42",
   "metadata": {},
   "outputs": [],
   "source": [
    "meta_estimator = LogisticRegression(max_iter=1000, random_state=42)"
   ]
  },
  {
   "cell_type": "code",
   "execution_count": null,
   "id": "69e39915-8b47-4abb-bb67-e6fdfe1a2f83",
   "metadata": {},
   "outputs": [],
   "source": [
    "stacking = StackingClassifier(estimators=base_estimators, final_estimator=meta_estimator)"
   ]
  },
  {
   "cell_type": "code",
   "execution_count": null,
   "id": "5bc125a9-9ac1-42c1-9d6a-0e0cea818b75",
   "metadata": {},
   "outputs": [],
   "source": [
    "grid_search_stacking = GridSearchCV(estimator=stacking, param_grid=param_grid_stacking, cv=5, verbose=1, n_jobs=-1)"
   ]
  },
  {
   "cell_type": "code",
   "execution_count": null,
   "id": "87f81953-64a7-4a38-9926-bf27732f96f3",
   "metadata": {},
   "outputs": [],
   "source": [
    "grid_search_stacking.fit(X_train, y_train)"
   ]
  },
  {
   "cell_type": "code",
   "execution_count": null,
   "id": "91de39c9-8732-4b6e-9eb5-80988380349b",
   "metadata": {},
   "outputs": [],
   "source": [
    "with open('grid_search_stacking.pkl', 'wb') as f:\n",
    "    pickle.dump(grid_search_stacking, f)"
   ]
  },
  {
   "cell_type": "code",
   "execution_count": null,
   "id": "2c76d28c-349a-43e0-abf7-fed5b2a22cd9",
   "metadata": {},
   "outputs": [],
   "source": [
    "print(\"Melhor score de validação:\", grid_search_stacking.best_score_)"
   ]
  },
  {
   "cell_type": "markdown",
   "id": "93629b9b-0fce-41ea-a81e-f95917c36b28",
   "metadata": {},
   "source": [
    "# RESULTS"
   ]
  },
  {
   "cell_type": "code",
   "execution_count": null,
   "id": "12972549-9481-4377-8bcf-ef0a507997d0",
   "metadata": {},
   "outputs": [],
   "source": [
    "import pickle\n",
    "from sklearn.metrics import accuracy_score, precision_score, recall_score, f1_score\n",
    "\n",
    "with open('./CV_RESULTS_ISOT/grid_search_dt.pkl', 'rb') as f:\n",
    "    grid_search_dt = pickle.load(f)\n",
    "\n",
    "with open('./CV_RESULTS_ISOT/grid_search_nb.pkl', 'rb') as f:\n",
    "    grid_search_nb = pickle.load(f)\n",
    "\n",
    "with open('./CV_RESULTS_ISOT/grid_search_lr.pkl', 'rb') as f:\n",
    "    grid_search_lr = pickle.load(f)\n",
    "\n",
    "with open('./CV_RESULTS_ISOT/grid_search_linear_svm.pkl', 'rb') as f:\n",
    "    grid_search_linear_svm = pickle.load(f)\n",
    "\n",
    "with open('./CV_RESULTS_ISOT/grid_search_rf.pkl', 'rb') as f:\n",
    "    grid_search_rf = pickle.load(f)\n",
    "\n",
    "with open('./CV_RESULTS_ISOT/grid_search_ada.pkl', 'rb') as f:\n",
    "    grid_search_ada = pickle.load(f)\n",
    "\n",
    "#with open('grid_search_xgb.pkl', 'rb') as f:\n",
    "#    grid_search_xgb = pickle.load(f)\n",
    "\n",
    "with open('./CV_RESULTS_ISOT/grid_search_stacking.pkl', 'rb') as f:\n",
    "    grid_search_stacking = pickle.load(f)\n",
    "\n",
    "#Extract the best models from the grid search\n",
    "best_dt = grid_search_dt.best_estimator_\n",
    "best_nb = grid_search_nb.best_estimator_\n",
    "best_lr = grid_search_lr.best_estimator_\n",
    "best_linear_svm = grid_search_linear_svm.best_estimator_\n",
    "best_rf = grid_search_rf.best_estimator_\n",
    "best_ada = grid_search_ada.best_estimator_\n",
    "#best_xgb = grid_search_xgb.best_estimator_\n",
    "best_stacking = grid_search_stacking.best_estimator_\n",
    "\n",
    "\n",
    "# Define a function to compute and print metrics\n",
    "def print_metrics(model, X_test, y_test, model_name):\n",
    "    y_pred = model.predict(X_test)\n",
    "    \n",
    "    print(f\"Metrics for {model_name}:\")\n",
    "    print(f\"Accuracy: {accuracy_score(y_test, y_pred):.9f}\")\n",
    "    print(f\"Precision: {precision_score(y_test, y_pred, average='weighted'):.9f}\")\n",
    "    print(f\"Recall: {recall_score(y_test, y_pred, average='weighted'):.9f}\")\n",
    "    print(f\"F1-Score: {f1_score(y_test, y_pred, average='weighted'):.9f}\")\n",
    "    print(\"-\" * 40)\n",
    "\n",
    "# Assuming you have the test data X_test, y_test\n",
    "# Replace these with your actual test data\n",
    "# X_test, y_test = ...\n",
    "\n",
    "# Print metrics for each model\n",
    "print_metrics(best_dt, X_test, y_test, 'Decision Tree')\n",
    "print_metrics(best_nb, X_test, y_test, 'Naive Bayes')\n",
    "print_metrics(best_lr, X_test, y_test, 'Logistic Regression')\n",
    "print_metrics(best_linear_svm, X_test, y_test, 'Linear SVM')\n",
    "print_metrics(best_rf, X_test, y_test, 'Random Forest')\n",
    "print_metrics(best_ada, X_test, y_test, 'AdaBoost')\n",
    "#print_metrics(best_xgb, X_test, y_test, 'XGBoost')\n",
    "print_metrics(best_stacking, X_test, y_test, 'Stacking')"
   ]
  }
 ],
 "metadata": {
  "kernelspec": {
   "display_name": "Python 3 (ipykernel)",
   "language": "python",
   "name": "python3"
  },
  "language_info": {
   "codemirror_mode": {
    "name": "ipython",
    "version": 3
   },
   "file_extension": ".py",
   "mimetype": "text/x-python",
   "name": "python",
   "nbconvert_exporter": "python",
   "pygments_lexer": "ipython3",
   "version": "3.10.12"
  }
 },
 "nbformat": 4,
 "nbformat_minor": 5
}
