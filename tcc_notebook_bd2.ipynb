{
 "cells": [
  {
   "cell_type": "markdown",
   "id": "588d8ea0-c61f-4de5-b07e-43971159fef8",
   "metadata": {},
   "source": [
    "# UTILS"
   ]
  },
  {
   "cell_type": "code",
   "execution_count": null,
   "id": "62f16543-45f6-418c-957f-b8b4e5d39fe9",
   "metadata": {},
   "outputs": [],
   "source": [
    "import pandas as pd\n",
    "import re\n",
    "import string\n",
    "import pickle\n",
    "from sklearn.model_selection import train_test_split, GridSearchCV, ShuffleSplit\n",
    "from sklearn.ensemble import AdaBoostClassifier\n",
    "from sklearn.feature_extraction.text import TfidfVectorizer\n",
    "from sklearn.tree import DecisionTreeClassifier\n",
    "from sklearn.naive_bayes import MultinomialNB\n",
    "from sklearn.linear_model import LogisticRegression\n",
    "from sklearn.model_selection import cross_validate\n",
    "from sklearn.metrics import make_scorer, accuracy_score, recall_score, f1_score, precision_score\n",
    "from sklearn.ensemble import BaggingClassifier\n",
    "from sklearn.ensemble import StackingClassifier\n",
    "from sklearn.ensemble import RandomForestClassifier\n",
    "from sklearn.naive_bayes import GaussianNB\n",
    "from sklearn.metrics import accuracy_score, precision_score, recall_score, f1_score, confusion_matrix, classification_report\n",
    "from imblearn.over_sampling import SMOTE\n",
    "from sklearn.svm import SVC\n",
    "from xgboost import XGBClassifier\n",
    "from sklearn.svm import LinearSVC"
   ]
  },
  {
   "cell_type": "code",
   "execution_count": null,
   "id": "42b05ee2-3038-437f-9993-e312e5320daa",
   "metadata": {},
   "outputs": [],
   "source": [
    "def wordopt(text):\n",
    "    text = text.lower()\n",
    "    text = re.sub('\\[.*?\\]', '', text)\n",
    "    text = re.sub(\"\\\\W\", \" \", text)\n",
    "    text = re.sub('https?://\\S+|www\\.\\S+', '', text)\n",
    "    text = re.sub('<.*?>+', '', text)\n",
    "    text = re.sub('[%s]' % re.escape(string.punctuation), '', text)\n",
    "    text = re.sub('\\n', '', text)\n",
    "    text = re.sub('\\w*\\d\\w*', '', text)\n",
    "    return text"
   ]
  },
  {
   "cell_type": "markdown",
   "id": "5af054ef-42ea-426a-949b-8dcffc611e22",
   "metadata": {},
   "source": [
    "## BD2"
   ]
  },
  {
   "cell_type": "markdown",
   "id": "695331c0-2845-4564-bbcf-f35d6a329438",
   "metadata": {},
   "source": [
    "### Pre-processing"
   ]
  },
  {
   "cell_type": "code",
   "execution_count": null,
   "id": "a2bdb640-1383-48d7-9942-0d418738af62",
   "metadata": {},
   "outputs": [],
   "source": [
    "df = pd.read_csv(\"./BD2/data.csv\")\n",
    "df"
   ]
  },
  {
   "cell_type": "code",
   "execution_count": null,
   "id": "75ff417e-528c-4f48-bbc7-ade71a815365",
   "metadata": {},
   "outputs": [],
   "source": [
    "pd.set_option('display.max_columns', None)  # Exibe todas as colunas\n",
    "pd.set_option('display.max_rows', None)     # Exibe todas as linhas (cuidado se o DataFrame for grande)\n",
    "pd.set_option('display.max_colwidth', None)  # Exibe o conteúdo completo das colunas, sem truncamento\n",
    "print(df.iloc[57]) "
   ]
  },
  {
   "cell_type": "code",
   "execution_count": null,
   "id": "96d476ad-7abe-48b8-b681-86da03324714",
   "metadata": {},
   "outputs": [],
   "source": [
    "df = df[['Body', 'Label']]\n",
    "df"
   ]
  },
  {
   "cell_type": "code",
   "execution_count": null,
   "id": "c5b9b9b2-9271-431f-af1c-e77c613f07ab",
   "metadata": {},
   "outputs": [],
   "source": [
    "df = df[df['Body'].apply(lambda x: isinstance(x, str))].reset_index(drop=True)"
   ]
  },
  {
   "cell_type": "code",
   "execution_count": null,
   "id": "26e54fc7-0cca-42d7-8148-80c7adcc7244",
   "metadata": {},
   "outputs": [],
   "source": [
    "df[\"Body\"] = df[\"Body\"].apply(wordopt)\n",
    "df"
   ]
  },
  {
   "cell_type": "code",
   "execution_count": null,
   "id": "1fa6514c-5ba4-46ef-8484-cf42e01f6a61",
   "metadata": {},
   "outputs": [],
   "source": [
    "X = df[\"Body\"]\n",
    "y = df[\"Label\"]"
   ]
  },
  {
   "cell_type": "code",
   "execution_count": null,
   "id": "175765d7-08ba-4554-bbd7-fa1d1712c837",
   "metadata": {},
   "outputs": [],
   "source": [
    "contagem_classes = df['Label'].value_counts()\n",
    "print(contagem_classes)"
   ]
  },
  {
   "cell_type": "code",
   "execution_count": null,
   "id": "c92fa197-c703-4704-baec-b3f1ccf8b400",
   "metadata": {},
   "outputs": [],
   "source": [
    "vectorizer = TfidfVectorizer()\n",
    "xv = vectorizer.fit_transform(X)\n",
    "xv.shape  "
   ]
  },
  {
   "cell_type": "code",
   "execution_count": null,
   "id": "61ad2a79-de7e-4341-8ec9-8eccfd7c7a5f",
   "metadata": {},
   "outputs": [],
   "source": [
    "X_train, X_test, y_train, y_test = train_test_split(xv, y, test_size=0.2, random_state=42)\n",
    "print(X_train.shape)\n",
    "print(X_test.shape)  "
   ]
  },
  {
   "cell_type": "markdown",
   "id": "6e2df97c-a285-49fb-9904-2a13212be10c",
   "metadata": {},
   "source": [
    "## Base Learners"
   ]
  },
  {
   "cell_type": "markdown",
   "id": "df98b5d4-72fa-4d11-9901-976fdd0e5fc7",
   "metadata": {},
   "source": [
    "### Decision Tree"
   ]
  },
  {
   "cell_type": "code",
   "execution_count": null,
   "id": "cd11bf50-1500-4732-ac5c-69280bce9070",
   "metadata": {},
   "outputs": [],
   "source": [
    "param_grid_dt = {\n",
    "    'max_depth': [None, 10],\n",
    "    'min_samples_split': [2, 10],\n",
    "    'min_samples_leaf': [1, 2]\n",
    "}"
   ]
  },
  {
   "cell_type": "code",
   "execution_count": null,
   "id": "7fac0566-b210-492f-938b-42ccb893168c",
   "metadata": {},
   "outputs": [],
   "source": [
    "dt = DecisionTreeClassifier()"
   ]
  },
  {
   "cell_type": "code",
   "execution_count": null,
   "id": "0202e19a-ed3d-4c59-8b8e-71b7c304394b",
   "metadata": {},
   "outputs": [],
   "source": [
    "grid_search_dt = GridSearchCV(estimator=dt, param_grid=param_grid_dt, cv=5, n_jobs=-1, verbose=2)"
   ]
  },
  {
   "cell_type": "code",
   "execution_count": null,
   "id": "4e138eb9-5a9e-400d-8b65-2af68b3cd0f2",
   "metadata": {},
   "outputs": [],
   "source": [
    "grid_search_dt.fit(X_train, y_train)"
   ]
  },
  {
   "cell_type": "code",
   "execution_count": null,
   "id": "aeed2064-d31d-4b1a-a4d0-8aa5a1a913a5",
   "metadata": {},
   "outputs": [],
   "source": [
    "with open('grid_search_dt.pkl', 'wb') as file:\n",
    "    pickle.dump(grid_search_dt, file)"
   ]
  },
  {
   "cell_type": "code",
   "execution_count": null,
   "id": "54645fde-3c32-448a-8b9c-d1b2470a9ffd",
   "metadata": {},
   "outputs": [],
   "source": [
    "print(\"Melhor score de validação:\", grid_search_dt.best_score_)"
   ]
  },
  {
   "cell_type": "markdown",
   "id": "4f8767fb-ff37-4cf7-a62a-6925102d941a",
   "metadata": {},
   "source": [
    "### Logistic Regression"
   ]
  },
  {
   "cell_type": "code",
   "execution_count": null,
   "id": "c2209719-9603-4378-aac1-593fe2042532",
   "metadata": {},
   "outputs": [],
   "source": [
    "param_grid_lr = {\n",
    "    'C': [0.1, 1, 10],\n",
    "    'penalty': ['l2'],\n",
    "    'solver': ['lbfgs'],\n",
    "    'max_iter': [100, 200]\n",
    "}"
   ]
  },
  {
   "cell_type": "code",
   "execution_count": null,
   "id": "1c64cf09-0cf8-4e0e-b149-b2c4cb2d99fa",
   "metadata": {},
   "outputs": [],
   "source": [
    "lr = LogisticRegression()"
   ]
  },
  {
   "cell_type": "code",
   "execution_count": null,
   "id": "2974133d-7e67-405b-9a1b-9c1755650101",
   "metadata": {},
   "outputs": [],
   "source": [
    "grid_search_lr = GridSearchCV(estimator=lr, param_grid=param_grid_lr, cv=5, n_jobs=-1, verbose=2)"
   ]
  },
  {
   "cell_type": "code",
   "execution_count": null,
   "id": "5d60b07e-d35a-4441-80a3-c6fcf6f5a109",
   "metadata": {},
   "outputs": [],
   "source": [
    "grid_search_lr.fit(X_train, y_train)"
   ]
  },
  {
   "cell_type": "code",
   "execution_count": null,
   "id": "946292d3-3a98-4736-8f5c-663aa2238879",
   "metadata": {},
   "outputs": [],
   "source": [
    "with open('grid_search_lr.pkl', 'wb') as file:\n",
    "    pickle.dump(grid_search_lr, file)"
   ]
  },
  {
   "cell_type": "code",
   "execution_count": null,
   "id": "ddf1b78d-c64f-4eb1-b6a5-a0d26e08cfc1",
   "metadata": {},
   "outputs": [],
   "source": [
    "print(\"Melhor score de validação:\", grid_search_lr.best_score_)"
   ]
  },
  {
   "cell_type": "markdown",
   "id": "b40ab0d7-428d-4fb0-989e-588de0907b6b",
   "metadata": {},
   "source": [
    "### Naive Bayes"
   ]
  },
  {
   "cell_type": "code",
   "execution_count": null,
   "id": "45a8f5d3-46f2-4d18-853a-285b68417844",
   "metadata": {},
   "outputs": [],
   "source": [
    "param_grid_nb = {\n",
    "    'alpha': [0.1, 0.5, 1.0, 1.5],\n",
    "    'fit_prior': [True, False]     \n",
    "}"
   ]
  },
  {
   "cell_type": "code",
   "execution_count": null,
   "id": "9172ec1f-86a4-41fb-b189-fd375858049b",
   "metadata": {},
   "outputs": [],
   "source": [
    "nb = MultinomialNB()"
   ]
  },
  {
   "cell_type": "code",
   "execution_count": null,
   "id": "5297a8c3-3410-4ab3-be4a-d017b1cb4d0e",
   "metadata": {},
   "outputs": [],
   "source": [
    "grid_search_nb = GridSearchCV(estimator=nb, param_grid=param_grid_nb, cv=5, n_jobs=-1, verbose=2)"
   ]
  },
  {
   "cell_type": "code",
   "execution_count": null,
   "id": "024cc8c2-0010-4bea-a2f9-ba6af0868dc8",
   "metadata": {},
   "outputs": [],
   "source": [
    "grid_search_nb.fit(X_train, y_train)"
   ]
  },
  {
   "cell_type": "code",
   "execution_count": null,
   "id": "d31e702e-1777-4d3a-905d-b5f6cfe76fdb",
   "metadata": {},
   "outputs": [],
   "source": [
    "with open('grid_search_nb.pkl', 'wb') as model_file:\n",
    "    pickle.dump(grid_search_nb, model_file)"
   ]
  },
  {
   "cell_type": "code",
   "execution_count": null,
   "id": "6c93c32a-a0f8-4a73-a601-ae971ff6e736",
   "metadata": {},
   "outputs": [],
   "source": [
    "print(\"Melhor score de validação:\", grid_search_nb.best_score_)"
   ]
  },
  {
   "cell_type": "markdown",
   "id": "16ee20ed-ea86-40f8-a98a-f79f9ef68dfc",
   "metadata": {},
   "source": [
    "### SVM"
   ]
  },
  {
   "cell_type": "code",
   "execution_count": null,
   "id": "1a23fba6-c744-4755-b8f4-edb4f4735495",
   "metadata": {},
   "outputs": [],
   "source": [
    "param_grid_linear_svm = {\n",
    "    'C': [0.1, 1, 10],\n",
    "    'class_weight': [None, 'balanced'],\n",
    "    'max_iter': [1000, 2000, 5000]  # Opcional: ajuste conforme necessário\n",
    "}\n"
   ]
  },
  {
   "cell_type": "code",
   "execution_count": null,
   "id": "956abffe-5598-4d15-8aa6-13558c46cd3f",
   "metadata": {},
   "outputs": [],
   "source": [
    "linear_svm = LinearSVC(random_state=42)"
   ]
  },
  {
   "cell_type": "code",
   "execution_count": null,
   "id": "498b4fc3-dab1-4a2e-b902-a0cc1f29ec32",
   "metadata": {},
   "outputs": [],
   "source": [
    "grid_search_linear_svm = GridSearchCV(estimator=linear_svm, param_grid=param_grid_linear_svm, cv=5, n_jobs=-1, verbose=2)"
   ]
  },
  {
   "cell_type": "code",
   "execution_count": null,
   "id": "4b7967a1-fd25-4257-883d-d84a467019f1",
   "metadata": {},
   "outputs": [],
   "source": [
    "grid_search_linear_svm.fit(X_train, y_train)"
   ]
  },
  {
   "cell_type": "code",
   "execution_count": null,
   "id": "64e913fa-ced3-479d-a8fb-70c3cd51e05c",
   "metadata": {},
   "outputs": [],
   "source": [
    "with open('grid_search_linear_svm.pkl', 'wb') as model_file:\n",
    "    pickle.dump(grid_search_linear_svm, model_file)"
   ]
  },
  {
   "cell_type": "code",
   "execution_count": null,
   "id": "e6ebdeb9-8bc1-4974-bde5-483af73a7f2f",
   "metadata": {},
   "outputs": [],
   "source": [
    "print(\"Melhor score de validação:\", grid_search_linear_svm.best_score_)"
   ]
  },
  {
   "cell_type": "markdown",
   "id": "4a668e9d-fd7a-449d-88d9-71b409b5d403",
   "metadata": {},
   "source": [
    "## Bagging"
   ]
  },
  {
   "cell_type": "markdown",
   "id": "99e4f11c-c9e7-4839-aec9-f1c4c9a32579",
   "metadata": {},
   "source": [
    "### Random Forest"
   ]
  },
  {
   "cell_type": "code",
   "execution_count": null,
   "id": "3601191a-677d-415f-9e4a-32ac24396326",
   "metadata": {},
   "outputs": [],
   "source": [
    "param_grid_rf = {\n",
    "    'n_estimators': [100, 200],\n",
    "    'max_depth': [None, 10],\n",
    "    'min_samples_split': [2, 10]\n",
    "}\n"
   ]
  },
  {
   "cell_type": "code",
   "execution_count": null,
   "id": "cd73ad5a-a642-41b7-a2f8-8c52d0bb8e7a",
   "metadata": {},
   "outputs": [],
   "source": [
    "rf = RandomForestClassifier(random_state=42)"
   ]
  },
  {
   "cell_type": "code",
   "execution_count": null,
   "id": "e4be22cf-ce35-49e5-8cfb-9b3c7dec4a76",
   "metadata": {},
   "outputs": [],
   "source": [
    "grid_search_rf = GridSearchCV(estimator=rf, param_grid=param_grid_rf, cv=5, n_jobs=-1, verbose=2)"
   ]
  },
  {
   "cell_type": "code",
   "execution_count": null,
   "id": "df8a23cc-5ab3-48c5-8730-5075c595cc59",
   "metadata": {
    "scrolled": true
   },
   "outputs": [],
   "source": [
    "grid_search_rf.fit(X_train, y_train)"
   ]
  },
  {
   "cell_type": "code",
   "execution_count": null,
   "id": "b61d9383-3276-4927-b9e3-e990c2c373ec",
   "metadata": {},
   "outputs": [],
   "source": [
    "with open('grid_search_rf.pkl', 'wb') as file:\n",
    "    pickle.dump(grid_search_rf, file)"
   ]
  },
  {
   "cell_type": "code",
   "execution_count": null,
   "id": "c7b76605-f0bf-4e54-9bf8-4521507b8317",
   "metadata": {},
   "outputs": [],
   "source": [
    "print(\"Melhor score de validação:\", grid_search_rf.best_score_)"
   ]
  },
  {
   "cell_type": "markdown",
   "id": "7121b2de-026a-4e67-a347-cb74f2bc3597",
   "metadata": {},
   "source": [
    "## Boosting"
   ]
  },
  {
   "cell_type": "markdown",
   "id": "23276c0d-9a94-4f27-ac71-4fdab9bf3042",
   "metadata": {},
   "source": [
    "### AdaBoost"
   ]
  },
  {
   "cell_type": "code",
   "execution_count": null,
   "id": "b40d8f70-a739-4918-bf48-82d6f88a3596",
   "metadata": {},
   "outputs": [],
   "source": [
    "param_grid_ada = {\n",
    "    'n_estimators': [50, 100, 200], \n",
    "    'learning_rate': [0.01, 0.1, 0.5, 1],\n",
    "    'algorithm': ['SAMME'], \n",
    "}"
   ]
  },
  {
   "cell_type": "code",
   "execution_count": null,
   "id": "38d4e7f2-b847-4692-8565-f89ea077bfa3",
   "metadata": {},
   "outputs": [],
   "source": [
    "ada = AdaBoostClassifier(random_state=42)"
   ]
  },
  {
   "cell_type": "code",
   "execution_count": null,
   "id": "eae56368-a3e6-4855-b5b8-ff3f6449ed1b",
   "metadata": {},
   "outputs": [],
   "source": [
    "grid_search_ada = GridSearchCV(estimator=ada, param_grid=param_grid_ada, cv=5, n_jobs=-1, verbose=2)"
   ]
  },
  {
   "cell_type": "code",
   "execution_count": null,
   "id": "1e33b5fb-953f-403d-84cc-9cdc593713bf",
   "metadata": {},
   "outputs": [],
   "source": [
    "grid_search_ada.fit(X_train, y_train)"
   ]
  },
  {
   "cell_type": "code",
   "execution_count": null,
   "id": "57b41e77-049d-41f3-9995-c456795753ef",
   "metadata": {},
   "outputs": [],
   "source": [
    "with open('grid_search_ada.pkl', 'wb') as f:\n",
    "    pickle.dump(grid_search_ada, f)"
   ]
  },
  {
   "cell_type": "code",
   "execution_count": null,
   "id": "0feefeef-9a33-425e-bbc2-ce2291e08868",
   "metadata": {},
   "outputs": [],
   "source": [
    "print(\"Melhor score de validação:\", grid_search_ada.best_score_)"
   ]
  },
  {
   "cell_type": "markdown",
   "id": "bc3a0d04-ba3e-4994-b774-859f25c4d664",
   "metadata": {},
   "source": [
    "### XGBoost"
   ]
  },
  {
   "cell_type": "code",
   "execution_count": null,
   "id": "546831f0-64d1-4ad7-aa2b-158e73841cb7",
   "metadata": {},
   "outputs": [],
   "source": [
    "param_grid_xgb = {\n",
    "    'n_estimators': [100, 200],\n",
    "    'learning_rate': [0.1, 0.3],\n",
    "    'max_depth': [3, 5],\n",
    "    'subsample': [0.8, 1.0],\n",
    "    'gamma': [0, 0.1]\n",
    "}\n"
   ]
  },
  {
   "cell_type": "code",
   "execution_count": null,
   "id": "b79f20a7-9236-443f-b037-3351d6d8a36b",
   "metadata": {},
   "outputs": [],
   "source": [
    "xgb = XGBClassifier(random_state=42)"
   ]
  },
  {
   "cell_type": "code",
   "execution_count": null,
   "id": "c1fdcf94-6e3a-4997-83e9-a310e86d9e9b",
   "metadata": {},
   "outputs": [],
   "source": [
    "grid_search_xgb = GridSearchCV(estimator=xgb, param_grid=param_grid_xgb, cv=5, n_jobs=-1, verbose=2)"
   ]
  },
  {
   "cell_type": "code",
   "execution_count": null,
   "id": "44b7da81-d371-4d48-8004-7e5d40295425",
   "metadata": {},
   "outputs": [],
   "source": [
    "grid_search_xgb.fit(X_train, y_train)"
   ]
  },
  {
   "cell_type": "code",
   "execution_count": null,
   "id": "808d1f92-633e-40e8-82f1-565a5f94ab33",
   "metadata": {},
   "outputs": [],
   "source": [
    "with open('grid_search_xgb.pkl', 'wb') as f:\n",
    "    pickle.dump(grid_search_xgb, f)"
   ]
  },
  {
   "cell_type": "code",
   "execution_count": null,
   "id": "d1a8cc63-818b-4a05-a230-ebc2a8afc5f9",
   "metadata": {},
   "outputs": [],
   "source": [
    "print(\"Melhor score de validação:\", grid_search_xgb.best_score_)"
   ]
  },
  {
   "cell_type": "markdown",
   "id": "ad89ea17-057d-43aa-9a2d-a242b7d1cd20",
   "metadata": {},
   "source": [
    "## Stacking"
   ]
  },
  {
   "cell_type": "code",
   "execution_count": null,
   "id": "8ccaa7ac-0415-479d-ab2b-b5cc61f71b22",
   "metadata": {},
   "outputs": [],
   "source": [
    "param_grid_stacking = {\n",
    "    'final_estimator__C': [0.01, 0.1, 1.0, 10.0],  \n",
    "    'final_estimator__solver': ['liblinear', 'saga'],  \n",
    "    'passthrough': [False, True]  \n",
    "}"
   ]
  },
  {
   "cell_type": "code",
   "execution_count": null,
   "id": "001c7579-a0a9-45e0-857d-e28c8884e82e",
   "metadata": {},
   "outputs": [],
   "source": [
    "base_estimators = [\n",
    "    ('lr', grid_search_lr.best_estimator_),\n",
    "    ('nb', grid_search_nb.best_estimator_),\n",
    "    ('dt', grid_search_dt.best_estimator_),\n",
    "    ('svm', grid_search_linear_svm.best_estimator_)\n",
    "]"
   ]
  },
  {
   "cell_type": "code",
   "execution_count": null,
   "id": "623c0f15-e0be-4d9b-81d8-b70c7e096e42",
   "metadata": {},
   "outputs": [],
   "source": [
    "meta_estimator = LogisticRegression(max_iter=1000, random_state=42)"
   ]
  },
  {
   "cell_type": "code",
   "execution_count": null,
   "id": "69e39915-8b47-4abb-bb67-e6fdfe1a2f83",
   "metadata": {},
   "outputs": [],
   "source": [
    "stacking = StackingClassifier(estimators=base_estimators, final_estimator=meta_estimator)"
   ]
  },
  {
   "cell_type": "code",
   "execution_count": null,
   "id": "5bc125a9-9ac1-42c1-9d6a-0e0cea818b75",
   "metadata": {},
   "outputs": [],
   "source": [
    "grid_search_stacking = GridSearchCV(estimator=stacking, param_grid=param_grid_stacking, cv=5, verbose=1, n_jobs=-1)"
   ]
  },
  {
   "cell_type": "code",
   "execution_count": null,
   "id": "87f81953-64a7-4a38-9926-bf27732f96f3",
   "metadata": {},
   "outputs": [],
   "source": [
    "grid_search_stacking.fit(X_train, y_train)"
   ]
  },
  {
   "cell_type": "code",
   "execution_count": null,
   "id": "91de39c9-8732-4b6e-9eb5-80988380349b",
   "metadata": {},
   "outputs": [],
   "source": [
    "with open('grid_search_stacking.pkl', 'wb') as f:\n",
    "    pickle.dump(grid_search_stacking, f)"
   ]
  },
  {
   "cell_type": "code",
   "execution_count": null,
   "id": "2c76d28c-349a-43e0-abf7-fed5b2a22cd9",
   "metadata": {},
   "outputs": [],
   "source": [
    "print(\"Melhor score de validação:\", grid_search_stacking.best_score_)"
   ]
  },
  {
   "cell_type": "markdown",
   "id": "93629b9b-0fce-41ea-a81e-f95917c36b28",
   "metadata": {},
   "source": [
    "# RESULTS"
   ]
  },
  {
   "cell_type": "code",
   "execution_count": null,
   "id": "643a9e1e-f0c3-4f1e-bcbd-872977e489c3",
   "metadata": {},
   "outputs": [],
   "source": [
    "import pickle\n",
    "from sklearn.metrics import accuracy_score, precision_score, recall_score, f1_score\n",
    "\n",
    "with open('grid_search_dt.pkl', 'rb') as f:\n",
    "    grid_search_dt = pickle.load(f)\n",
    "    \n",
    "best_dt = grid_search_dt.best_estimator_\n",
    "\n",
    "def print_metrics(model, X_train, y_test, model_name):\n",
    "    y_pred = model.predict(X_test)\n",
    "    \n",
    "    print(f\"Metrics for {model_name}:\")\n",
    "    print(f\"Accuracy: {accuracy_score(y_test, y_pred):.9f}\")\n",
    "    print(f\"Precision: {precision_score(y_test, y_pred, average='weighted'):.9f}\")\n",
    "    print(f\"Recall: {recall_score(y_test, y_pred, average='weighted'):.9f}\")\n",
    "    print(f\"F1-Score: {f1_score(y_test, y_pred, average='weighted'):.9f}\")\n",
    "    print(\"-\" * 40)\n",
    "\n",
    "print_metrics(best_dt, X_test, y_test, 'Decision Tree')"
   ]
  },
  {
   "cell_type": "code",
   "execution_count": null,
   "id": "1a4447d9-627c-4a36-a004-c93ca680f74c",
   "metadata": {},
   "outputs": [],
   "source": [
    "results = grid_search_dt.cv_results_\n",
    "df_results = pd.DataFrame(results)\n",
    "df_results"
   ]
  },
  {
   "cell_type": "code",
   "execution_count": null,
   "id": "12972549-9481-4377-8bcf-ef0a507997d0",
   "metadata": {},
   "outputs": [],
   "source": [
    "import pickle\n",
    "from sklearn.metrics import accuracy_score, precision_score, recall_score, f1_score\n",
    "\n",
    "with open('./BD2_CV_RESULTS/grid_search_dt.pkl', 'rb') as f:\n",
    "    grid_search_dt = pickle.load(f)\n",
    "\n",
    "with open('./BD2_CV_RESULTS/grid_search_nb.pkl', 'rb') as f:\n",
    "    grid_search_nb = pickle.load(f)\n",
    "\n",
    "with open('grid_search_lr.pkl', 'rb') as f:\n",
    "    grid_search_lr = pickle.load(f)\n",
    "\n",
    "with open('grid_search_linear_svm.pkl', 'rb') as f:\n",
    "    grid_search_linear_svm = pickle.load(f)\n",
    "\n",
    "with open('grid_search_rf.pkl', 'rb') as f:\n",
    "    grid_search_rf = pickle.load(f)\n",
    "\n",
    "with open('grid_search_ada.pkl', 'rb') as f:\n",
    "    grid_search_ada = pickle.load(f)\n",
    "\n",
    "with open('grid_search_xgb.pkl', 'rb') as f:\n",
    "    grid_search_xgb = pickle.load(f)\n",
    "\n",
    "with open('grid_search_stacking.pkl', 'rb') as f:\n",
    "    grid_search_stacking = pickle.load(f)\n",
    "\n",
    "# Extract the best models from the grid search\n",
    "best_dt = grid_search_dt.best_estimator_\n",
    "best_nb = grid_search_nb.best_estimator_\n",
    "best_lr = grid_search_lr.best_estimator_\n",
    "best_linear_svm = grid_search_linear_svm.best_estimator_\n",
    "best_rf = grid_search_rf.best_estimator_\n",
    "best_ada = grid_search_ada.best_estimator_\n",
    "best_xgb = grid_search_xgb.best_estimator_\n",
    "best_stacking = grid_search_stacking.best_estimator_\n",
    "\n",
    "\n",
    "# Define a function to compute and print metrics\n",
    "def print_metrics(model, X_test, y_test, model_name):\n",
    "    y_pred = model.predict(X_test)\n",
    "    \n",
    "    print(f\"Metrics for {model_name}:\")\n",
    "    print(f\"Accuracy: {accuracy_score(y_test, y_pred):.9f}\")\n",
    "    print(f\"Precision: {precision_score(y_test, y_pred, average='weighted'):.9f}\")\n",
    "    print(f\"Recall: {recall_score(y_test, y_pred, average='weighted'):.9f}\")\n",
    "    print(f\"F1-Score: {f1_score(y_test, y_pred, average='weighted'):.9f}\")\n",
    "    print(\"-\" * 40)\n",
    "\n",
    "# Assuming you have the test data X_test, y_test\n",
    "# Replace these with your actual test data\n",
    "# X_test, y_test = ...\n",
    "\n",
    "# Print metrics for each model\n",
    "print_metrics(best_dt, X_test, y_test, 'Decision Tree')\n",
    "print_metrics(best_nb, X_test, y_test, 'Naive Bayes')\n",
    "print_metrics(best_lr, X_test, y_test, 'Logistic Regression')\n",
    "print_metrics(best_linear_svm, X_test, y_test, 'Linear SVM')\n",
    "print_metrics(best_rf, X_test, y_test, 'Random Forest')\n",
    "print_metrics(best_ada, X_test, y_test, 'AdaBoost')\n",
    "print_metrics(best_xgb, X_test, y_test, 'XGBoost')\n",
    "print_metrics(best_stacking, X_test, y_test, 'Stacking')"
   ]
  },
  {
   "cell_type": "code",
   "execution_count": null,
   "id": "1d4d724e-8b74-42b3-b6ef-34a55dd038c9",
   "metadata": {},
   "outputs": [],
   "source": []
  }
 ],
 "metadata": {
  "kernelspec": {
   "display_name": "Python 3 (ipykernel)",
   "language": "python",
   "name": "python3"
  },
  "language_info": {
   "codemirror_mode": {
    "name": "ipython",
    "version": 3
   },
   "file_extension": ".py",
   "mimetype": "text/x-python",
   "name": "python",
   "nbconvert_exporter": "python",
   "pygments_lexer": "ipython3",
   "version": "3.10.12"
  }
 },
 "nbformat": 4,
 "nbformat_minor": 5
}
