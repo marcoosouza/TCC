{
 "cells": [
  {
   "cell_type": "markdown",
   "id": "588d8ea0-c61f-4de5-b07e-43971159fef8",
   "metadata": {},
   "source": [
    "# UTILS"
   ]
  },
  {
   "cell_type": "code",
   "execution_count": null,
   "id": "d8427d86-776c-4004-be72-dbd5a26a744d",
   "metadata": {},
   "outputs": [],
   "source": [
    "import pandas as pd\n",
    "import re\n",
    "import string\n",
    "import pickle\n",
    "from sklearn.model_selection import train_test_split, GridSearchCV, ShuffleSplit\n",
    "from sklearn.ensemble import AdaBoostClassifier\n",
    "from sklearn.feature_extraction.text import TfidfVectorizer\n",
    "from sklearn.tree import DecisionTreeClassifier\n",
    "from sklearn.naive_bayes import MultinomialNB\n",
    "from sklearn.linear_model import LogisticRegression\n",
    "from sklearn.model_selection import cross_validate\n",
    "from sklearn.metrics import make_scorer, accuracy_score, recall_score, f1_score, precision_score\n",
    "from sklearn.ensemble import BaggingClassifier\n",
    "from sklearn.ensemble import StackingClassifier\n",
    "from sklearn.ensemble import RandomForestClassifier\n",
    "from sklearn.naive_bayes import GaussianNB\n",
    "from sklearn.metrics import accuracy_score, precision_score, recall_score, f1_score, confusion_matrix, classification_report\n",
    "from imblearn.over_sampling import SMOTE\n",
    "from sklearn.svm import SVC\n",
    "from xgboost import XGBClassifier"
   ]
  },
  {
   "cell_type": "code",
   "execution_count": null,
   "id": "42b05ee2-3038-437f-9993-e312e5320daa",
   "metadata": {},
   "outputs": [],
   "source": [
    "def wordopt(text):\n",
    "    text = text.lower()\n",
    "    text = re.sub('\\[.*?\\]', '', text)\n",
    "    text = re.sub(\"\\\\W\", \" \", text)\n",
    "    text = re.sub('https?://\\S+|www\\.\\S+', '', text)\n",
    "    text = re.sub('<.*?>+', '', text)\n",
    "    text = re.sub('[%s]' % re.escape(string.punctuation), '', text)\n",
    "    text = re.sub('\\n', '', text)\n",
    "    text = re.sub('\\w*\\d\\w*', '', text)\n",
    "    return text"
   ]
  },
  {
   "cell_type": "markdown",
   "id": "5af054ef-42ea-426a-949b-8dcffc611e22",
   "metadata": {},
   "source": [
    "## BOTH"
   ]
  },
  {
   "cell_type": "markdown",
   "id": "695331c0-2845-4564-bbcf-f35d6a329438",
   "metadata": {},
   "source": [
    "### Pre-processing"
   ]
  },
  {
   "cell_type": "markdown",
   "id": "0a3374f3-ecd3-4c0f-a123-e7685d5e4a44",
   "metadata": {},
   "source": [
    "### ISOT"
   ]
  },
  {
   "cell_type": "code",
   "execution_count": null,
   "id": "1df18187-065f-4d61-b023-5f583c487642",
   "metadata": {},
   "outputs": [],
   "source": [
    "df_fake = pd.read_csv(\"./ISOT/Fake.csv\")\n",
    "df_true = pd.read_csv(\"./ISOT/True.csv\")\n",
    "\n",
    "df_fake[\"class\"] = 0\n",
    "df_true[\"class\"] = 1\n",
    "\n",
    "df_merge = pd.concat([df_fake, df_true], axis=0)\n",
    "df_isot = df_merge.drop([\"title\", \"subject\", \"date\"], axis=1)\n",
    "df_isot = df_isot.sample(frac=1)\n",
    "df_isot.reset_index(inplace=True)\n",
    "df_isot.drop([\"index\"], axis=1, inplace=True)\n",
    "\n",
    "print(df_isot)"
   ]
  },
  {
   "cell_type": "code",
   "execution_count": null,
   "id": "3e22c97a-7522-475a-a2c3-39ce39fdc3d9",
   "metadata": {},
   "outputs": [],
   "source": [
    "df_isot[\"text\"] = df_isot[\"text\"].apply(wordopt)\n",
    "\n",
    "print(df_isot)"
   ]
  },
  {
   "cell_type": "code",
   "execution_count": null,
   "id": "f10371d7-2086-4b78-bbdb-ddbf60485f32",
   "metadata": {},
   "outputs": [],
   "source": [
    "X_isot = df_isot[\"text\"]\n",
    "y_isot = df_isot[\"class\"]\n",
    "\n",
    "print(y_isot)"
   ]
  },
  {
   "cell_type": "markdown",
   "id": "ee985a41-9d41-44dc-bfee-fc1820fa0216",
   "metadata": {},
   "source": [
    "### LIAR"
   ]
  },
  {
   "cell_type": "code",
   "execution_count": null,
   "id": "5c1047d7-93fe-4cc4-9fa7-640a30471b54",
   "metadata": {},
   "outputs": [],
   "source": [
    "column_names = [\n",
    "    'id', 'label', 'statement', 'subjects', 'speaker', 'job_title', 'state_info', \n",
    "    'party_affiliation', 'barely_true_counts', 'false_counts', 'half_true_counts', \n",
    "    'mostly_true_counts', 'pants_on_fire_counts', 'context'\n",
    "]"
   ]
  },
  {
   "cell_type": "code",
   "execution_count": null,
   "id": "9a40f284-f884-4da8-90d9-ceffd850975f",
   "metadata": {},
   "outputs": [],
   "source": [
    "df_test = pd.read_csv('./LIAR/test.tsv', sep='\\t', names=column_names)\n",
    "df_train = pd.read_csv('./LIAR/train.tsv', sep='\\t', names=column_names)"
   ]
  },
  {
   "cell_type": "code",
   "execution_count": null,
   "id": "67f4465a-8872-48b6-b93a-23f63318f6ec",
   "metadata": {},
   "outputs": [],
   "source": [
    "df_liar = pd.concat([df_train[['label', 'statement']], df_test[['label', 'statement']]], ignore_index=True)\n",
    "df_liar"
   ]
  },
  {
   "cell_type": "code",
   "execution_count": null,
   "id": "cf5a3e64-594b-4b88-b14f-ad38c3629886",
   "metadata": {},
   "outputs": [],
   "source": [
    "class_mapping = {\n",
    "    'true': 1,\n",
    "    'mostly-true': 1,\n",
    "    'half-true': 1,\n",
    "    'barely-true': 0,\n",
    "    'false': 0,\n",
    "    'pants-fire': 0\n",
    "}"
   ]
  },
  {
   "cell_type": "code",
   "execution_count": null,
   "id": "0d1ec20b-d226-4033-9b6e-d4dc9fa9b7fa",
   "metadata": {},
   "outputs": [],
   "source": [
    "df_liar['class'] = df_liar['label'].map(class_mapping)\n",
    "df_liar"
   ]
  },
  {
   "cell_type": "code",
   "execution_count": null,
   "id": "51f26435-6e3b-4ca6-ac8a-3a09f6f96497",
   "metadata": {},
   "outputs": [],
   "source": [
    "df_liar[\"statement\"] = df_liar[\"statement\"].apply(wordopt)\n",
    "df_liar"
   ]
  },
  {
   "cell_type": "code",
   "execution_count": null,
   "id": "64cca679-6e83-46ee-a579-1c4001f7061a",
   "metadata": {},
   "outputs": [],
   "source": [
    "X_liar = df_liar[\"statement\"]\n",
    "y_liar = df_liar[\"class\"]\n",
    "\n",
    "print(y_liar)"
   ]
  },
  {
   "cell_type": "code",
   "execution_count": null,
   "id": "f0ff7778-fe55-490f-9943-b52ae8f69e3e",
   "metadata": {},
   "outputs": [],
   "source": [
    "X = pd.concat([X_isot, X_liar], axis=0)\n",
    "y = pd.concat([y_isot, y_liar], axis=0)\n",
    "\n",
    "vectorizer = TfidfVectorizer()\n",
    "X_vect = vectorizer.fit_transform(X)\n",
    "\n",
    "X_vect.shape"
   ]
  },
  {
   "cell_type": "code",
   "execution_count": null,
   "id": "aa466cc7-e471-496c-80f3-3cf0a7fdca30",
   "metadata": {},
   "outputs": [],
   "source": [
    "print(X)"
   ]
  },
  {
   "cell_type": "code",
   "execution_count": null,
   "id": "bbe5fa4d-19c4-4fa3-9684-b9553c86fc1f",
   "metadata": {},
   "outputs": [],
   "source": [
    "X_train, X_test, y_train, y_test = train_test_split(X_vect, y, test_size=0.2, random_state=42)\n",
    "\n",
    "print(X_train.shape)\n",
    "print(X_test.shape)  "
   ]
  },
  {
   "cell_type": "markdown",
   "id": "6e2df97c-a285-49fb-9904-2a13212be10c",
   "metadata": {},
   "source": [
    "## Base Learners"
   ]
  },
  {
   "cell_type": "markdown",
   "id": "df98b5d4-72fa-4d11-9901-976fdd0e5fc7",
   "metadata": {},
   "source": [
    "### Decision Tree"
   ]
  },
  {
   "cell_type": "code",
   "execution_count": null,
   "id": "cd11bf50-1500-4732-ac5c-69280bce9070",
   "metadata": {},
   "outputs": [],
   "source": [
    "param_grid_dt = {\n",
    "    'max_depth': [None, 10],\n",
    "    'min_samples_split': [2, 10],\n",
    "    'min_samples_leaf': [1, 2]\n",
    "}"
   ]
  },
  {
   "cell_type": "code",
   "execution_count": null,
   "id": "7fac0566-b210-492f-938b-42ccb893168c",
   "metadata": {},
   "outputs": [],
   "source": [
    "dt = DecisionTreeClassifier()"
   ]
  },
  {
   "cell_type": "code",
   "execution_count": null,
   "id": "0202e19a-ed3d-4c59-8b8e-71b7c304394b",
   "metadata": {},
   "outputs": [],
   "source": [
    "grid_search_dt = GridSearchCV(estimator=dt, param_grid=param_grid_dt, cv=5, n_jobs=-1, verbose=2)"
   ]
  },
  {
   "cell_type": "code",
   "execution_count": null,
   "id": "4e138eb9-5a9e-400d-8b65-2af68b3cd0f2",
   "metadata": {},
   "outputs": [],
   "source": [
    "grid_search_dt.fit(X_train, y_train)"
   ]
  },
  {
   "cell_type": "code",
   "execution_count": null,
   "id": "aeed2064-d31d-4b1a-a4d0-8aa5a1a913a5",
   "metadata": {},
   "outputs": [],
   "source": [
    "with open('grid_search_dt.pkl', 'wb') as file:\n",
    "    pickle.dump(grid_search_dt, file)"
   ]
  },
  {
   "cell_type": "code",
   "execution_count": null,
   "id": "54645fde-3c32-448a-8b9c-d1b2470a9ffd",
   "metadata": {},
   "outputs": [],
   "source": [
    "print(\"Melhor score de validação:\", grid_search_dt.best_score_)"
   ]
  },
  {
   "cell_type": "markdown",
   "id": "4f8767fb-ff37-4cf7-a62a-6925102d941a",
   "metadata": {},
   "source": [
    "### Logistic Regression"
   ]
  },
  {
   "cell_type": "code",
   "execution_count": null,
   "id": "c2209719-9603-4378-aac1-593fe2042532",
   "metadata": {},
   "outputs": [],
   "source": [
    "param_grid_lr = {\n",
    "    'C': [0.1, 1, 10],\n",
    "    'penalty': ['l2'],\n",
    "    'solver': ['lbfgs'],\n",
    "    'max_iter': [100, 200]\n",
    "}"
   ]
  },
  {
   "cell_type": "code",
   "execution_count": null,
   "id": "1c64cf09-0cf8-4e0e-b149-b2c4cb2d99fa",
   "metadata": {},
   "outputs": [],
   "source": [
    "lr = LogisticRegression()"
   ]
  },
  {
   "cell_type": "code",
   "execution_count": null,
   "id": "2974133d-7e67-405b-9a1b-9c1755650101",
   "metadata": {},
   "outputs": [],
   "source": [
    "grid_search_lr = GridSearchCV(estimator=lr, param_grid=param_grid_lr, cv=5, n_jobs=-1, verbose=2)"
   ]
  },
  {
   "cell_type": "code",
   "execution_count": null,
   "id": "5d60b07e-d35a-4441-80a3-c6fcf6f5a109",
   "metadata": {},
   "outputs": [],
   "source": [
    "grid_search_lr.fit(X_train, y_train)"
   ]
  },
  {
   "cell_type": "code",
   "execution_count": null,
   "id": "946292d3-3a98-4736-8f5c-663aa2238879",
   "metadata": {},
   "outputs": [],
   "source": [
    "with open('grid_search_lr.pkl', 'wb') as file:\n",
    "    pickle.dump(grid_search_lr, file)"
   ]
  },
  {
   "cell_type": "code",
   "execution_count": null,
   "id": "ddf1b78d-c64f-4eb1-b6a5-a0d26e08cfc1",
   "metadata": {},
   "outputs": [],
   "source": [
    "print(\"Melhor score de validação:\", grid_search_lr.best_score_)"
   ]
  },
  {
   "cell_type": "markdown",
   "id": "b40ab0d7-428d-4fb0-989e-588de0907b6b",
   "metadata": {},
   "source": [
    "### Naive Bayes"
   ]
  },
  {
   "cell_type": "code",
   "execution_count": null,
   "id": "45a8f5d3-46f2-4d18-853a-285b68417844",
   "metadata": {},
   "outputs": [],
   "source": [
    "param_grid_nb = {\n",
    "    'alpha': [0.1, 0.5, 1.0, 1.5],\n",
    "    'fit_prior': [True, False]     \n",
    "}"
   ]
  },
  {
   "cell_type": "code",
   "execution_count": null,
   "id": "9172ec1f-86a4-41fb-b189-fd375858049b",
   "metadata": {},
   "outputs": [],
   "source": [
    "nb = MultinomialNB()"
   ]
  },
  {
   "cell_type": "code",
   "execution_count": null,
   "id": "5297a8c3-3410-4ab3-be4a-d017b1cb4d0e",
   "metadata": {},
   "outputs": [],
   "source": [
    "grid_search_nb = GridSearchCV(estimator=nb, param_grid=param_grid_nb, cv=5, n_jobs=-1, verbose=2)"
   ]
  },
  {
   "cell_type": "code",
   "execution_count": null,
   "id": "024cc8c2-0010-4bea-a2f9-ba6af0868dc8",
   "metadata": {},
   "outputs": [],
   "source": [
    "grid_search_nb.fit(X_train, y_train)"
   ]
  },
  {
   "cell_type": "code",
   "execution_count": null,
   "id": "d31e702e-1777-4d3a-905d-b5f6cfe76fdb",
   "metadata": {},
   "outputs": [],
   "source": [
    "with open('grid_search_nb.pkl', 'wb') as model_file:\n",
    "    pickle.dump(grid_search_nb, model_file)"
   ]
  },
  {
   "cell_type": "code",
   "execution_count": null,
   "id": "6c93c32a-a0f8-4a73-a601-ae971ff6e736",
   "metadata": {},
   "outputs": [],
   "source": [
    "print(\"Melhor score de validação:\", grid_search_nb.best_score_)"
   ]
  },
  {
   "cell_type": "markdown",
   "id": "16ee20ed-ea86-40f8-a98a-f79f9ef68dfc",
   "metadata": {},
   "source": [
    "### SVM"
   ]
  },
  {
   "cell_type": "code",
   "execution_count": null,
   "id": "1a23fba6-c744-4755-b8f4-edb4f4735495",
   "metadata": {},
   "outputs": [],
   "source": [
    "param_grid_svm = {\n",
    "    'C': [0.1, 1, 10],\n",
    "    'kernel': ['linear', 'rbf'],\n",
    "    'gamma': ['scale', 'auto'],\n",
    "    'class_weight': [None, 'balanced']\n",
    "}"
   ]
  },
  {
   "cell_type": "code",
   "execution_count": null,
   "id": "956abffe-5598-4d15-8aa6-13558c46cd3f",
   "metadata": {},
   "outputs": [],
   "source": [
    "svm = SVC(random_state=42)"
   ]
  },
  {
   "cell_type": "code",
   "execution_count": null,
   "id": "498b4fc3-dab1-4a2e-b902-a0cc1f29ec32",
   "metadata": {},
   "outputs": [],
   "source": [
    "grid_search_svm = GridSearchCV(estimator=svm, param_grid=param_grid_svm, cv=5, n_jobs=-1, verbose=2)"
   ]
  },
  {
   "cell_type": "code",
   "execution_count": null,
   "id": "4b7967a1-fd25-4257-883d-d84a467019f1",
   "metadata": {},
   "outputs": [],
   "source": [
    "grid_search_svm.fit(X_train, y_train)"
   ]
  },
  {
   "cell_type": "code",
   "execution_count": null,
   "id": "64e913fa-ced3-479d-a8fb-70c3cd51e05c",
   "metadata": {},
   "outputs": [],
   "source": [
    "with open('grid_search_svm.pkl', 'wb') as model_file:\n",
    "    pickle.dump(grid_search_svm, model_file)"
   ]
  },
  {
   "cell_type": "code",
   "execution_count": null,
   "id": "e6ebdeb9-8bc1-4974-bde5-483af73a7f2f",
   "metadata": {},
   "outputs": [],
   "source": [
    "print(\"Melhor score de validação:\", grid_search_svm.best_score_)"
   ]
  },
  {
   "cell_type": "markdown",
   "id": "4a668e9d-fd7a-449d-88d9-71b409b5d403",
   "metadata": {},
   "source": [
    "## Bagging"
   ]
  },
  {
   "cell_type": "markdown",
   "id": "99e4f11c-c9e7-4839-aec9-f1c4c9a32579",
   "metadata": {},
   "source": [
    "### Random Forest"
   ]
  },
  {
   "cell_type": "code",
   "execution_count": null,
   "id": "3601191a-677d-415f-9e4a-32ac24396326",
   "metadata": {},
   "outputs": [],
   "source": [
    "param_grid_rf = {\n",
    "    'n_estimators': [100, 200],\n",
    "    'max_depth': [None, 10],\n",
    "    'min_samples_split': [2, 10]\n",
    "}\n"
   ]
  },
  {
   "cell_type": "code",
   "execution_count": null,
   "id": "cd73ad5a-a642-41b7-a2f8-8c52d0bb8e7a",
   "metadata": {},
   "outputs": [],
   "source": [
    "rf = RandomForestClassifier(random_state=42)"
   ]
  },
  {
   "cell_type": "code",
   "execution_count": null,
   "id": "e4be22cf-ce35-49e5-8cfb-9b3c7dec4a76",
   "metadata": {},
   "outputs": [],
   "source": [
    "grid_search_rf = GridSearchCV(estimator=rf, param_grid=param_grid_rf, cv=5, n_jobs=-1, verbose=2)"
   ]
  },
  {
   "cell_type": "code",
   "execution_count": null,
   "id": "df8a23cc-5ab3-48c5-8730-5075c595cc59",
   "metadata": {
    "scrolled": true
   },
   "outputs": [],
   "source": [
    "grid_search_rf.fit(X_train, y_train)"
   ]
  },
  {
   "cell_type": "code",
   "execution_count": null,
   "id": "b61d9383-3276-4927-b9e3-e990c2c373ec",
   "metadata": {},
   "outputs": [],
   "source": [
    "with open('grid_search_rf.pkl', 'wb') as file:\n",
    "    pickle.dump(grid_search_rf, file)"
   ]
  },
  {
   "cell_type": "code",
   "execution_count": null,
   "id": "c7b76605-f0bf-4e54-9bf8-4521507b8317",
   "metadata": {},
   "outputs": [],
   "source": [
    "print(\"Melhor score de validação:\", grid_search_rf.best_score_)"
   ]
  },
  {
   "cell_type": "markdown",
   "id": "7121b2de-026a-4e67-a347-cb74f2bc3597",
   "metadata": {},
   "source": [
    "## Boosting"
   ]
  },
  {
   "cell_type": "markdown",
   "id": "23276c0d-9a94-4f27-ac71-4fdab9bf3042",
   "metadata": {},
   "source": [
    "### AdaBoost"
   ]
  },
  {
   "cell_type": "code",
   "execution_count": null,
   "id": "b40d8f70-a739-4918-bf48-82d6f88a3596",
   "metadata": {},
   "outputs": [],
   "source": [
    "param_grid_ada = {\n",
    "    'n_estimators': [50, 100, 200], \n",
    "    'learning_rate': [0.01, 0.1, 0.5, 1],\n",
    "    'algorithm': ['SAMME', 'SAMME.R'], \n",
    "}"
   ]
  },
  {
   "cell_type": "code",
   "execution_count": null,
   "id": "38d4e7f2-b847-4692-8565-f89ea077bfa3",
   "metadata": {},
   "outputs": [],
   "source": [
    "ada = AdaBoostClassifier(random_state=42)"
   ]
  },
  {
   "cell_type": "code",
   "execution_count": null,
   "id": "eae56368-a3e6-4855-b5b8-ff3f6449ed1b",
   "metadata": {},
   "outputs": [],
   "source": [
    "grid_search_ada = GridSearchCV(estimator=ada, param_grid=param_grid_ada, cv=5, n_jobs=-1, verbose=2)"
   ]
  },
  {
   "cell_type": "code",
   "execution_count": null,
   "id": "1e33b5fb-953f-403d-84cc-9cdc593713bf",
   "metadata": {},
   "outputs": [],
   "source": [
    "grid_search_ada.fit(X_train, y_train)"
   ]
  },
  {
   "cell_type": "code",
   "execution_count": null,
   "id": "57b41e77-049d-41f3-9995-c456795753ef",
   "metadata": {},
   "outputs": [],
   "source": [
    "with open('grid_search_ada.pkl', 'wb') as f:\n",
    "    pickle.dump(grid_search_ada, f)"
   ]
  },
  {
   "cell_type": "code",
   "execution_count": null,
   "id": "0feefeef-9a33-425e-bbc2-ce2291e08868",
   "metadata": {},
   "outputs": [],
   "source": [
    "print(\"Melhor score de validação:\", grid_search_ada.best_score_)"
   ]
  },
  {
   "cell_type": "markdown",
   "id": "bc3a0d04-ba3e-4994-b774-859f25c4d664",
   "metadata": {},
   "source": [
    "### XGBoost"
   ]
  },
  {
   "cell_type": "code",
   "execution_count": null,
   "id": "546831f0-64d1-4ad7-aa2b-158e73841cb7",
   "metadata": {},
   "outputs": [],
   "source": [
    "param_grid_xgb = {\n",
    "    'n_estimators': [100, 200],\n",
    "    'learning_rate': [0.1, 0.3],\n",
    "    'max_depth': [3, 5],\n",
    "    'subsample': [0.8, 1.0],\n",
    "    'gamma': [0, 0.1]\n",
    "}\n"
   ]
  },
  {
   "cell_type": "code",
   "execution_count": null,
   "id": "b79f20a7-9236-443f-b037-3351d6d8a36b",
   "metadata": {},
   "outputs": [],
   "source": [
    "xgb = XGBClassifier(random_state=42)"
   ]
  },
  {
   "cell_type": "code",
   "execution_count": null,
   "id": "c1fdcf94-6e3a-4997-83e9-a310e86d9e9b",
   "metadata": {},
   "outputs": [],
   "source": [
    "grid_search_xgb = GridSearchCV(estimator=xgb, param_grid=param_grid_xgb, cv=5, n_jobs=-1, verbose=2)"
   ]
  },
  {
   "cell_type": "code",
   "execution_count": null,
   "id": "44b7da81-d371-4d48-8004-7e5d40295425",
   "metadata": {},
   "outputs": [],
   "source": [
    "grid_search_xgb.fit(X_train, y_train)"
   ]
  },
  {
   "cell_type": "code",
   "execution_count": null,
   "id": "808d1f92-633e-40e8-82f1-565a5f94ab33",
   "metadata": {},
   "outputs": [],
   "source": [
    "with open('grid_search_xgb.pkl', 'wb') as f:\n",
    "    pickle.dump(grid_search_xgb, f)"
   ]
  },
  {
   "cell_type": "code",
   "execution_count": null,
   "id": "d1a8cc63-818b-4a05-a230-ebc2a8afc5f9",
   "metadata": {},
   "outputs": [],
   "source": [
    "print(\"Melhor score de validação:\", grid_search_xgb.best_score_)"
   ]
  },
  {
   "cell_type": "markdown",
   "id": "ad89ea17-057d-43aa-9a2d-a242b7d1cd20",
   "metadata": {},
   "source": [
    "## Stacking"
   ]
  },
  {
   "cell_type": "code",
   "execution_count": null,
   "id": "8ccaa7ac-0415-479d-ab2b-b5cc61f71b22",
   "metadata": {},
   "outputs": [],
   "source": [
    "param_grid_stacking = {\n",
    "    'final_estimator__C': [0.01, 0.1, 1.0, 10.0],  \n",
    "    'final_estimator__solver': ['liblinear', 'saga'],  \n",
    "    'passthrough': [False, True]  \n",
    "}"
   ]
  },
  {
   "cell_type": "code",
   "execution_count": null,
   "id": "001c7579-a0a9-45e0-857d-e28c8884e82e",
   "metadata": {},
   "outputs": [],
   "source": [
    "base_estimators = [\n",
    "    ('lr', grid_search_lr.best_estimator__),\n",
    "    ('nb', grid_search_nb.best_estimator__,\n",
    "    ('dt', grid_search_dt.best_estimator__)\n",
    "    ('svm', grid_search_svm.best_estimator__)\n",
    "]"
   ]
  },
  {
   "cell_type": "code",
   "execution_count": null,
   "id": "623c0f15-e0be-4d9b-81d8-b70c7e096e42",
   "metadata": {},
   "outputs": [],
   "source": [
    "meta_estimator = LogisticRegression(max_iter=1000, random_state=42)"
   ]
  },
  {
   "cell_type": "code",
   "execution_count": null,
   "id": "69e39915-8b47-4abb-bb67-e6fdfe1a2f83",
   "metadata": {},
   "outputs": [],
   "source": [
    "stacking = StackingClassifier(estimators=base_estimators, final_estimator=meta_estimator)"
   ]
  },
  {
   "cell_type": "code",
   "execution_count": null,
   "id": "5bc125a9-9ac1-42c1-9d6a-0e0cea818b75",
   "metadata": {},
   "outputs": [],
   "source": [
    "grid_search_stacking = GridSearchCV(estimator=stacking, param_grid=param_grid_stacking, cv=5, verbose=1, n_jobs=-1)"
   ]
  },
  {
   "cell_type": "code",
   "execution_count": null,
   "id": "87f81953-64a7-4a38-9926-bf27732f96f3",
   "metadata": {},
   "outputs": [],
   "source": [
    "grid_search_stacking.fit(X_train, y_train)"
   ]
  },
  {
   "cell_type": "code",
   "execution_count": null,
   "id": "91de39c9-8732-4b6e-9eb5-80988380349b",
   "metadata": {},
   "outputs": [],
   "source": [
    "with open('grid_search_stacking.pkl', 'wb') as f:\n",
    "    pickle.dump(grid_search_stacking, f)"
   ]
  },
  {
   "cell_type": "code",
   "execution_count": null,
   "id": "2c76d28c-349a-43e0-abf7-fed5b2a22cd9",
   "metadata": {},
   "outputs": [],
   "source": [
    "print(\"Melhor score de validação:\", grid_search_stacking.best_score_)"
   ]
  },
  {
   "cell_type": "markdown",
   "id": "93629b9b-0fce-41ea-a81e-f95917c36b28",
   "metadata": {},
   "source": [
    "# RESULTS"
   ]
  },
  {
   "cell_type": "code",
   "execution_count": 5,
   "id": "12972549-9481-4377-8bcf-ef0a507997d0",
   "metadata": {},
   "outputs": [
    {
     "ename": "FileNotFoundError",
     "evalue": "[Errno 2] No such file or directory: '.BD2_CV_RESULTS/grid_search_linear_svm.pkl'",
     "output_type": "error",
     "traceback": [
      "\u001b[0;31m---------------------------------------------------------------------------\u001b[0m",
      "\u001b[0;31mFileNotFoundError\u001b[0m                         Traceback (most recent call last)",
      "Cell \u001b[0;32mIn[5], line 14\u001b[0m\n\u001b[1;32m     11\u001b[0m \u001b[38;5;28;01mwith\u001b[39;00m \u001b[38;5;28mopen\u001b[39m(\u001b[38;5;124m'\u001b[39m\u001b[38;5;124m./BD2_CV_RESULTS/grid_search_lr.pkl\u001b[39m\u001b[38;5;124m'\u001b[39m, \u001b[38;5;124m'\u001b[39m\u001b[38;5;124mrb\u001b[39m\u001b[38;5;124m'\u001b[39m) \u001b[38;5;28;01mas\u001b[39;00m f:\n\u001b[1;32m     12\u001b[0m     grid_search_lr \u001b[38;5;241m=\u001b[39m pickle\u001b[38;5;241m.\u001b[39mload(f)\n\u001b[0;32m---> 14\u001b[0m \u001b[38;5;28;01mwith\u001b[39;00m \u001b[38;5;28;43mopen\u001b[39;49m\u001b[43m(\u001b[49m\u001b[38;5;124;43m'\u001b[39;49m\u001b[38;5;124;43m.BD2_CV_RESULTS/grid_search_linear_svm.pkl\u001b[39;49m\u001b[38;5;124;43m'\u001b[39;49m\u001b[43m,\u001b[49m\u001b[43m \u001b[49m\u001b[38;5;124;43m'\u001b[39;49m\u001b[38;5;124;43mrb\u001b[39;49m\u001b[38;5;124;43m'\u001b[39;49m\u001b[43m)\u001b[49m \u001b[38;5;28;01mas\u001b[39;00m f:\n\u001b[1;32m     15\u001b[0m     grid_search_svm \u001b[38;5;241m=\u001b[39m pickle\u001b[38;5;241m.\u001b[39mload(f)\n\u001b[1;32m     18\u001b[0m \u001b[38;5;66;03m# Extract the best models from the grid search\u001b[39;00m\n",
      "File \u001b[0;32m~/Documents/TCC/code/env/lib/python3.10/site-packages/IPython/core/interactiveshell.py:324\u001b[0m, in \u001b[0;36m_modified_open\u001b[0;34m(file, *args, **kwargs)\u001b[0m\n\u001b[1;32m    317\u001b[0m \u001b[38;5;28;01mif\u001b[39;00m file \u001b[38;5;129;01min\u001b[39;00m {\u001b[38;5;241m0\u001b[39m, \u001b[38;5;241m1\u001b[39m, \u001b[38;5;241m2\u001b[39m}:\n\u001b[1;32m    318\u001b[0m     \u001b[38;5;28;01mraise\u001b[39;00m \u001b[38;5;167;01mValueError\u001b[39;00m(\n\u001b[1;32m    319\u001b[0m         \u001b[38;5;124mf\u001b[39m\u001b[38;5;124m\"\u001b[39m\u001b[38;5;124mIPython won\u001b[39m\u001b[38;5;124m'\u001b[39m\u001b[38;5;124mt let you open fd=\u001b[39m\u001b[38;5;132;01m{\u001b[39;00mfile\u001b[38;5;132;01m}\u001b[39;00m\u001b[38;5;124m by default \u001b[39m\u001b[38;5;124m\"\u001b[39m\n\u001b[1;32m    320\u001b[0m         \u001b[38;5;124m\"\u001b[39m\u001b[38;5;124mas it is likely to crash IPython. If you know what you are doing, \u001b[39m\u001b[38;5;124m\"\u001b[39m\n\u001b[1;32m    321\u001b[0m         \u001b[38;5;124m\"\u001b[39m\u001b[38;5;124myou can use builtins\u001b[39m\u001b[38;5;124m'\u001b[39m\u001b[38;5;124m open.\u001b[39m\u001b[38;5;124m\"\u001b[39m\n\u001b[1;32m    322\u001b[0m     )\n\u001b[0;32m--> 324\u001b[0m \u001b[38;5;28;01mreturn\u001b[39;00m \u001b[43mio_open\u001b[49m\u001b[43m(\u001b[49m\u001b[43mfile\u001b[49m\u001b[43m,\u001b[49m\u001b[43m \u001b[49m\u001b[38;5;241;43m*\u001b[39;49m\u001b[43margs\u001b[49m\u001b[43m,\u001b[49m\u001b[43m \u001b[49m\u001b[38;5;241;43m*\u001b[39;49m\u001b[38;5;241;43m*\u001b[39;49m\u001b[43mkwargs\u001b[49m\u001b[43m)\u001b[49m\n",
      "\u001b[0;31mFileNotFoundError\u001b[0m: [Errno 2] No such file or directory: '.BD2_CV_RESULTS/grid_search_linear_svm.pkl'"
     ]
    }
   ],
   "source": [
    "import pickle\n",
    "from sklearn.metrics import accuracy_score, precision_score, recall_score, f1_score\n",
    "\n",
    "# Load the saved grid search objects\n",
    "with open('./BD2_CV_RESULTS/grid_search_dt.pkl', 'rb') as f:\n",
    "    grid_search_dt = pickle.load(f)\n",
    "\n",
    "with open('./BD2_CV_RESULTS/grid_search_nb.pkl', 'rb') as f:\n",
    "    grid_search_nb = pickle.load(f)\n",
    "\n",
    "with open('./BD2_CV_RESULTS/grid_search_lr.pkl', 'rb') as f:\n",
    "    grid_search_lr = pickle.load(f)\n",
    "\n",
    "with open('.BD2_CV_RESULTS/grid_search_linear_svm.pkl', 'rb') as f:\n",
    "    grid_search_svm = pickle.load(f)\n",
    "\n",
    "\n",
    "# Extract the best models from the grid search\n",
    "best_dt = grid_search_dt.best_estimator_\n",
    "best_nb = grid_search_nb.best_estimator_\n",
    "best_lr = grid_search_lr.best_estimator_\n",
    "best_rf = grid_search_rf.best_estimator_\n",
    "#best_ada = grid_search_ada.best_estimator_\n",
    "\n",
    "\n",
    "# Define a function to compute and print metrics\n",
    "def print_metrics(model, X_test, y_test, model_name):\n",
    "    y_pred = model.predict(X_test)\n",
    "    \n",
    "    print(f\"Metrics for {model_name}:\")\n",
    "    print(f\"Accuracy: {accuracy_score(y_test, y_pred):.9f}\")\n",
    "    print(f\"Precision: {precision_score(y_test, y_pred, average='weighted'):.9f}\")\n",
    "    print(f\"Recall: {recall_score(y_test, y_pred, average='weighted'):.9f}\")\n",
    "    print(f\"F1-Score: {f1_score(y_test, y_pred, average='weighted'):.9f}\")\n",
    "    print(\"-\" * 40)\n",
    "\n",
    "# Assuming you have the test data X_test, y_test\n",
    "# Replace these with your actual test data\n",
    "# X_test, y_test = ...\n",
    "\n",
    "# Print metrics for each model\n",
    "print_metrics(best_dt, X_test, y_test, 'Decision Tree')\n",
    "print_metrics(best_nb, X_test, y_test, 'Naive Bayes')\n",
    "print_metrics(best_lr, X_test, y_test, 'Logistic Regression')\n",
    "print_metrics(best_rf, X_test, y_test, 'Random Forest')\n",
    "#print_metrics(best_ada, X_test, y_test, 'AdaBoost')"
   ]
  },
  {
   "cell_type": "code",
   "execution_count": 2,
   "id": "3634f1dc-b23a-497c-a0a9-9aa3e9425a04",
   "metadata": {},
   "outputs": [
    {
     "ename": "NameError",
     "evalue": "name 'clf' is not defined",
     "output_type": "error",
     "traceback": [
      "\u001b[0;31m---------------------------------------------------------------------------\u001b[0m",
      "\u001b[0;31mNameError\u001b[0m                                 Traceback (most recent call last)",
      "Cell \u001b[0;32mIn[2], line 3\u001b[0m\n\u001b[1;32m      1\u001b[0m \u001b[38;5;28;01mimport\u001b[39;00m \u001b[38;5;21;01mnumpy\u001b[39;00m \u001b[38;5;28;01mas\u001b[39;00m \u001b[38;5;21;01mnp\u001b[39;00m\n\u001b[1;32m      2\u001b[0m x_values \u001b[38;5;241m=\u001b[39m np\u001b[38;5;241m.\u001b[39mlinspace(\u001b[38;5;241m0\u001b[39m, \u001b[38;5;241m7\u001b[39m, \u001b[38;5;241m100\u001b[39m)\n\u001b[0;32m----> 3\u001b[0m prob \u001b[38;5;241m=\u001b[39m \u001b[43mclf\u001b[49m\u001b[38;5;241m.\u001b[39mpredict_proba(x_values\u001b[38;5;241m.\u001b[39mreshape(\u001b[38;5;241m-\u001b[39m\u001b[38;5;241m1\u001b[39m, \u001b[38;5;241m1\u001b[39m))[:, \u001b[38;5;241m1\u001b[39m]\n\u001b[1;32m      5\u001b[0m plt\u001b[38;5;241m.\u001b[39mplot(x_values, prob, label\u001b[38;5;241m=\u001b[39m\u001b[38;5;124m\"\u001b[39m\u001b[38;5;124mSigmoid\u001b[39m\u001b[38;5;124m\"\u001b[39m)\n\u001b[1;32m      6\u001b[0m plt\u001b[38;5;241m.\u001b[39mscatter(X, y, color\u001b[38;5;241m=\u001b[39m\u001b[38;5;124m\"\u001b[39m\u001b[38;5;124mred\u001b[39m\u001b[38;5;124m\"\u001b[39m, label\u001b[38;5;241m=\u001b[39m\u001b[38;5;124m\"\u001b[39m\u001b[38;5;124mData Points\u001b[39m\u001b[38;5;124m\"\u001b[39m)\n",
      "\u001b[0;31mNameError\u001b[0m: name 'clf' is not defined"
     ]
    }
   ],
   "source": [
    "import numpy as np\n",
    "x_values = np.linspace(0, 7, 100)\n",
    "prob = clf.predict_proba(x_values.reshape(-1, 1))[:, 1]\n",
    "\n",
    "plt.plot(x_values, prob, label=\"Sigmoid\")\n",
    "plt.scatter(X, y, color=\"red\", label=\"Data Points\")\n",
    "plt.xlabel(\"Feature Value\")\n",
    "plt.ylabel(\"Probability\")\n",
    "plt.title(\"Regressão Logística: Curva Sigmoide\")\n",
    "plt.legend()\n",
    "plt.show()"
   ]
  },
  {
   "cell_type": "code",
   "execution_count": null,
   "id": "753c1376-44b7-407d-b4dc-c3ed42a05783",
   "metadata": {},
   "outputs": [],
   "source": []
  }
 ],
 "metadata": {
  "kernelspec": {
   "display_name": "Python 3 (ipykernel)",
   "language": "python",
   "name": "python3"
  },
  "language_info": {
   "codemirror_mode": {
    "name": "ipython",
    "version": 3
   },
   "file_extension": ".py",
   "mimetype": "text/x-python",
   "name": "python",
   "nbconvert_exporter": "python",
   "pygments_lexer": "ipython3",
   "version": "3.10.12"
  }
 },
 "nbformat": 4,
 "nbformat_minor": 5
}
